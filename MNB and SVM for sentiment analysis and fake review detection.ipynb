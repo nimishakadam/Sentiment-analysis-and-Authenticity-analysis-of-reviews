{
  "nbformat": 4,
  "nbformat_minor": 0,
  "metadata": {
    "colab": {
      "provenance": [],
      "collapsed_sections": []
    },
    "kernelspec": {
      "name": "python3",
      "display_name": "Python 3"
    },
    "language_info": {
      "name": "python"
    }
  },
  "cells": [
    {
      "cell_type": "markdown",
      "source": [
        "##MNB and SVM for Fake Review Detection\n",
        "\n"
      ],
      "metadata": {
        "id": "fpmVx6bjOROo"
      }
    },
    {
      "cell_type": "code",
      "execution_count": null,
      "metadata": {
        "colab": {
          "base_uri": "https://localhost:8080/",
          "height": 206
        },
        "id": "NKnjnVmWpmZh",
        "outputId": "9cf273b5-e8f1-41cc-e014-d66c94549d0b"
      },
      "outputs": [
        {
          "output_type": "execute_result",
          "data": {
            "text/plain": [
              "  lie sentiment                                             review\n",
              "0   f         n  'Mike\\'s Pizza High Point, NY Service was very...\n",
              "1   f         n  'i really like this buffet restaurant in Marsh...\n",
              "2   f         n  'After I went shopping with some of my friend,...\n",
              "3   f         n  'Olive Oil Garden was very disappointing. I ex...\n",
              "4   f         n  'The Seven Heaven restaurant was never known f..."
            ],
            "text/html": [
              "\n",
              "  <div id=\"df-77804202-4d4f-4a29-92cb-d8945d28af02\">\n",
              "    <div class=\"colab-df-container\">\n",
              "      <div>\n",
              "<style scoped>\n",
              "    .dataframe tbody tr th:only-of-type {\n",
              "        vertical-align: middle;\n",
              "    }\n",
              "\n",
              "    .dataframe tbody tr th {\n",
              "        vertical-align: top;\n",
              "    }\n",
              "\n",
              "    .dataframe thead th {\n",
              "        text-align: right;\n",
              "    }\n",
              "</style>\n",
              "<table border=\"1\" class=\"dataframe\">\n",
              "  <thead>\n",
              "    <tr style=\"text-align: right;\">\n",
              "      <th></th>\n",
              "      <th>lie</th>\n",
              "      <th>sentiment</th>\n",
              "      <th>review</th>\n",
              "    </tr>\n",
              "  </thead>\n",
              "  <tbody>\n",
              "    <tr>\n",
              "      <th>0</th>\n",
              "      <td>f</td>\n",
              "      <td>n</td>\n",
              "      <td>'Mike\\'s Pizza High Point, NY Service was very...</td>\n",
              "    </tr>\n",
              "    <tr>\n",
              "      <th>1</th>\n",
              "      <td>f</td>\n",
              "      <td>n</td>\n",
              "      <td>'i really like this buffet restaurant in Marsh...</td>\n",
              "    </tr>\n",
              "    <tr>\n",
              "      <th>2</th>\n",
              "      <td>f</td>\n",
              "      <td>n</td>\n",
              "      <td>'After I went shopping with some of my friend,...</td>\n",
              "    </tr>\n",
              "    <tr>\n",
              "      <th>3</th>\n",
              "      <td>f</td>\n",
              "      <td>n</td>\n",
              "      <td>'Olive Oil Garden was very disappointing. I ex...</td>\n",
              "    </tr>\n",
              "    <tr>\n",
              "      <th>4</th>\n",
              "      <td>f</td>\n",
              "      <td>n</td>\n",
              "      <td>'The Seven Heaven restaurant was never known f...</td>\n",
              "    </tr>\n",
              "  </tbody>\n",
              "</table>\n",
              "</div>\n",
              "      <button class=\"colab-df-convert\" onclick=\"convertToInteractive('df-77804202-4d4f-4a29-92cb-d8945d28af02')\"\n",
              "              title=\"Convert this dataframe to an interactive table.\"\n",
              "              style=\"display:none;\">\n",
              "        \n",
              "  <svg xmlns=\"http://www.w3.org/2000/svg\" height=\"24px\"viewBox=\"0 0 24 24\"\n",
              "       width=\"24px\">\n",
              "    <path d=\"M0 0h24v24H0V0z\" fill=\"none\"/>\n",
              "    <path d=\"M18.56 5.44l.94 2.06.94-2.06 2.06-.94-2.06-.94-.94-2.06-.94 2.06-2.06.94zm-11 1L8.5 8.5l.94-2.06 2.06-.94-2.06-.94L8.5 2.5l-.94 2.06-2.06.94zm10 10l.94 2.06.94-2.06 2.06-.94-2.06-.94-.94-2.06-.94 2.06-2.06.94z\"/><path d=\"M17.41 7.96l-1.37-1.37c-.4-.4-.92-.59-1.43-.59-.52 0-1.04.2-1.43.59L10.3 9.45l-7.72 7.72c-.78.78-.78 2.05 0 2.83L4 21.41c.39.39.9.59 1.41.59.51 0 1.02-.2 1.41-.59l7.78-7.78 2.81-2.81c.8-.78.8-2.07 0-2.86zM5.41 20L4 18.59l7.72-7.72 1.47 1.35L5.41 20z\"/>\n",
              "  </svg>\n",
              "      </button>\n",
              "      \n",
              "  <style>\n",
              "    .colab-df-container {\n",
              "      display:flex;\n",
              "      flex-wrap:wrap;\n",
              "      gap: 12px;\n",
              "    }\n",
              "\n",
              "    .colab-df-convert {\n",
              "      background-color: #E8F0FE;\n",
              "      border: none;\n",
              "      border-radius: 50%;\n",
              "      cursor: pointer;\n",
              "      display: none;\n",
              "      fill: #1967D2;\n",
              "      height: 32px;\n",
              "      padding: 0 0 0 0;\n",
              "      width: 32px;\n",
              "    }\n",
              "\n",
              "    .colab-df-convert:hover {\n",
              "      background-color: #E2EBFA;\n",
              "      box-shadow: 0px 1px 2px rgba(60, 64, 67, 0.3), 0px 1px 3px 1px rgba(60, 64, 67, 0.15);\n",
              "      fill: #174EA6;\n",
              "    }\n",
              "\n",
              "    [theme=dark] .colab-df-convert {\n",
              "      background-color: #3B4455;\n",
              "      fill: #D2E3FC;\n",
              "    }\n",
              "\n",
              "    [theme=dark] .colab-df-convert:hover {\n",
              "      background-color: #434B5C;\n",
              "      box-shadow: 0px 1px 3px 1px rgba(0, 0, 0, 0.15);\n",
              "      filter: drop-shadow(0px 1px 2px rgba(0, 0, 0, 0.3));\n",
              "      fill: #FFFFFF;\n",
              "    }\n",
              "  </style>\n",
              "\n",
              "      <script>\n",
              "        const buttonEl =\n",
              "          document.querySelector('#df-77804202-4d4f-4a29-92cb-d8945d28af02 button.colab-df-convert');\n",
              "        buttonEl.style.display =\n",
              "          google.colab.kernel.accessAllowed ? 'block' : 'none';\n",
              "\n",
              "        async function convertToInteractive(key) {\n",
              "          const element = document.querySelector('#df-77804202-4d4f-4a29-92cb-d8945d28af02');\n",
              "          const dataTable =\n",
              "            await google.colab.kernel.invokeFunction('convertToInteractive',\n",
              "                                                     [key], {});\n",
              "          if (!dataTable) return;\n",
              "\n",
              "          const docLinkHtml = 'Like what you see? Visit the ' +\n",
              "            '<a target=\"_blank\" href=https://colab.research.google.com/notebooks/data_table.ipynb>data table notebook</a>'\n",
              "            + ' to learn more about interactive tables.';\n",
              "          element.innerHTML = '';\n",
              "          dataTable['output_type'] = 'display_data';\n",
              "          await google.colab.output.renderOutput(dataTable, element);\n",
              "          const docLink = document.createElement('div');\n",
              "          docLink.innerHTML = docLinkHtml;\n",
              "          element.appendChild(docLink);\n",
              "        }\n",
              "      </script>\n",
              "    </div>\n",
              "  </div>\n",
              "  "
            ]
          },
          "metadata": {},
          "execution_count": 1
        }
      ],
      "source": [
        "import pandas as pd\n",
        "input=pd.read_csv(\"/content/drive/MyDrive/deception_data_converted_final(1).tsv\", delimiter='\\t')\n",
        "input.head()"
      ]
    },
    {
      "cell_type": "code",
      "source": [
        "import re\n",
        "\n",
        "def remove_punctuations(text):\n",
        "  regex = r\"[!\\\"#\\$%&\\'\\(\\)\\*\\+,-\\./:;<=>\\?@\\[\\\\\\]\\^_`{\\|}~]\"\n",
        "  subst = \"\"\n",
        "  return re.sub(regex, subst, text, 0, re.MULTILINE)\n",
        "\n",
        "input['review'] = input['review'].apply(remove_punctuations)"
      ],
      "metadata": {
        "id": "r_CYtPiBzbFb"
      },
      "execution_count": null,
      "outputs": []
    },
    {
      "cell_type": "code",
      "source": [
        "input.head()"
      ],
      "metadata": {
        "colab": {
          "base_uri": "https://localhost:8080/",
          "height": 206
        },
        "id": "21rI1Rde0Zsp",
        "outputId": "15db36f5-a34c-4364-c84e-1ee32220a1d3"
      },
      "execution_count": null,
      "outputs": [
        {
          "output_type": "execute_result",
          "data": {
            "text/plain": [
              "  lie sentiment                                             review\n",
              "0   f         n  Mikes Pizza High Point NY Service was very slo...\n",
              "1   f         n  i really like this buffet restaurant in Marsha...\n",
              "2   f         n  After I went shopping with some of my friend w...\n",
              "3   f         n  Olive Oil Garden was very disappointing I expe...\n",
              "4   f         n  The Seven Heaven restaurant was never known fo..."
            ],
            "text/html": [
              "\n",
              "  <div id=\"df-9d3ae4c9-f5c4-432a-896d-5ca90acda7c7\">\n",
              "    <div class=\"colab-df-container\">\n",
              "      <div>\n",
              "<style scoped>\n",
              "    .dataframe tbody tr th:only-of-type {\n",
              "        vertical-align: middle;\n",
              "    }\n",
              "\n",
              "    .dataframe tbody tr th {\n",
              "        vertical-align: top;\n",
              "    }\n",
              "\n",
              "    .dataframe thead th {\n",
              "        text-align: right;\n",
              "    }\n",
              "</style>\n",
              "<table border=\"1\" class=\"dataframe\">\n",
              "  <thead>\n",
              "    <tr style=\"text-align: right;\">\n",
              "      <th></th>\n",
              "      <th>lie</th>\n",
              "      <th>sentiment</th>\n",
              "      <th>review</th>\n",
              "    </tr>\n",
              "  </thead>\n",
              "  <tbody>\n",
              "    <tr>\n",
              "      <th>0</th>\n",
              "      <td>f</td>\n",
              "      <td>n</td>\n",
              "      <td>Mikes Pizza High Point NY Service was very slo...</td>\n",
              "    </tr>\n",
              "    <tr>\n",
              "      <th>1</th>\n",
              "      <td>f</td>\n",
              "      <td>n</td>\n",
              "      <td>i really like this buffet restaurant in Marsha...</td>\n",
              "    </tr>\n",
              "    <tr>\n",
              "      <th>2</th>\n",
              "      <td>f</td>\n",
              "      <td>n</td>\n",
              "      <td>After I went shopping with some of my friend w...</td>\n",
              "    </tr>\n",
              "    <tr>\n",
              "      <th>3</th>\n",
              "      <td>f</td>\n",
              "      <td>n</td>\n",
              "      <td>Olive Oil Garden was very disappointing I expe...</td>\n",
              "    </tr>\n",
              "    <tr>\n",
              "      <th>4</th>\n",
              "      <td>f</td>\n",
              "      <td>n</td>\n",
              "      <td>The Seven Heaven restaurant was never known fo...</td>\n",
              "    </tr>\n",
              "  </tbody>\n",
              "</table>\n",
              "</div>\n",
              "      <button class=\"colab-df-convert\" onclick=\"convertToInteractive('df-9d3ae4c9-f5c4-432a-896d-5ca90acda7c7')\"\n",
              "              title=\"Convert this dataframe to an interactive table.\"\n",
              "              style=\"display:none;\">\n",
              "        \n",
              "  <svg xmlns=\"http://www.w3.org/2000/svg\" height=\"24px\"viewBox=\"0 0 24 24\"\n",
              "       width=\"24px\">\n",
              "    <path d=\"M0 0h24v24H0V0z\" fill=\"none\"/>\n",
              "    <path d=\"M18.56 5.44l.94 2.06.94-2.06 2.06-.94-2.06-.94-.94-2.06-.94 2.06-2.06.94zm-11 1L8.5 8.5l.94-2.06 2.06-.94-2.06-.94L8.5 2.5l-.94 2.06-2.06.94zm10 10l.94 2.06.94-2.06 2.06-.94-2.06-.94-.94-2.06-.94 2.06-2.06.94z\"/><path d=\"M17.41 7.96l-1.37-1.37c-.4-.4-.92-.59-1.43-.59-.52 0-1.04.2-1.43.59L10.3 9.45l-7.72 7.72c-.78.78-.78 2.05 0 2.83L4 21.41c.39.39.9.59 1.41.59.51 0 1.02-.2 1.41-.59l7.78-7.78 2.81-2.81c.8-.78.8-2.07 0-2.86zM5.41 20L4 18.59l7.72-7.72 1.47 1.35L5.41 20z\"/>\n",
              "  </svg>\n",
              "      </button>\n",
              "      \n",
              "  <style>\n",
              "    .colab-df-container {\n",
              "      display:flex;\n",
              "      flex-wrap:wrap;\n",
              "      gap: 12px;\n",
              "    }\n",
              "\n",
              "    .colab-df-convert {\n",
              "      background-color: #E8F0FE;\n",
              "      border: none;\n",
              "      border-radius: 50%;\n",
              "      cursor: pointer;\n",
              "      display: none;\n",
              "      fill: #1967D2;\n",
              "      height: 32px;\n",
              "      padding: 0 0 0 0;\n",
              "      width: 32px;\n",
              "    }\n",
              "\n",
              "    .colab-df-convert:hover {\n",
              "      background-color: #E2EBFA;\n",
              "      box-shadow: 0px 1px 2px rgba(60, 64, 67, 0.3), 0px 1px 3px 1px rgba(60, 64, 67, 0.15);\n",
              "      fill: #174EA6;\n",
              "    }\n",
              "\n",
              "    [theme=dark] .colab-df-convert {\n",
              "      background-color: #3B4455;\n",
              "      fill: #D2E3FC;\n",
              "    }\n",
              "\n",
              "    [theme=dark] .colab-df-convert:hover {\n",
              "      background-color: #434B5C;\n",
              "      box-shadow: 0px 1px 3px 1px rgba(0, 0, 0, 0.15);\n",
              "      filter: drop-shadow(0px 1px 2px rgba(0, 0, 0, 0.3));\n",
              "      fill: #FFFFFF;\n",
              "    }\n",
              "  </style>\n",
              "\n",
              "      <script>\n",
              "        const buttonEl =\n",
              "          document.querySelector('#df-9d3ae4c9-f5c4-432a-896d-5ca90acda7c7 button.colab-df-convert');\n",
              "        buttonEl.style.display =\n",
              "          google.colab.kernel.accessAllowed ? 'block' : 'none';\n",
              "\n",
              "        async function convertToInteractive(key) {\n",
              "          const element = document.querySelector('#df-9d3ae4c9-f5c4-432a-896d-5ca90acda7c7');\n",
              "          const dataTable =\n",
              "            await google.colab.kernel.invokeFunction('convertToInteractive',\n",
              "                                                     [key], {});\n",
              "          if (!dataTable) return;\n",
              "\n",
              "          const docLinkHtml = 'Like what you see? Visit the ' +\n",
              "            '<a target=\"_blank\" href=https://colab.research.google.com/notebooks/data_table.ipynb>data table notebook</a>'\n",
              "            + ' to learn more about interactive tables.';\n",
              "          element.innerHTML = '';\n",
              "          dataTable['output_type'] = 'display_data';\n",
              "          await google.colab.output.renderOutput(dataTable, element);\n",
              "          const docLink = document.createElement('div');\n",
              "          docLink.innerHTML = docLinkHtml;\n",
              "          element.appendChild(docLink);\n",
              "        }\n",
              "      </script>\n",
              "    </div>\n",
              "  </div>\n",
              "  "
            ]
          },
          "metadata": {},
          "execution_count": 3
        }
      ]
    },
    {
      "cell_type": "markdown",
      "source": [
        "#Sentiment Analysis"
      ],
      "metadata": {
        "id": "KbaE5Sz7MtjK"
      }
    },
    {
      "cell_type": "code",
      "source": [
        "X = input['review'].values\n",
        "y = input['sentiment'].values\n",
        "\n",
        "from sklearn.model_selection import train_test_split\n",
        "X_train, X_test, y_train, y_test = train_test_split(X, y, test_size=0.4, random_state=0)"
      ],
      "metadata": {
        "id": "fMNua-XJ6UyZ"
      },
      "execution_count": null,
      "outputs": []
    },
    {
      "cell_type": "code",
      "source": [
        "import numpy as np\n",
        "\n",
        "unique, counts = np.unique(y_train, return_counts=True)\n",
        "print(np.asarray((unique, counts)))\n",
        "\n",
        "unique, counts = np.unique(y_test, return_counts=True)\n",
        "print(np.asarray((unique, counts)))"
      ],
      "metadata": {
        "colab": {
          "base_uri": "https://localhost:8080/"
        },
        "id": "-mY7604F6_9w",
        "outputId": "50e6ea6c-bb2c-4fea-b290-868191b82057"
      },
      "execution_count": null,
      "outputs": [
        {
          "output_type": "stream",
          "name": "stdout",
          "text": [
            "[['n' 'p']\n",
            " [28 27]]\n",
            "[['n' 'p']\n",
            " [18 19]]\n"
          ]
        }
      ]
    },
    {
      "cell_type": "code",
      "source": [
        "from sklearn.feature_extraction.text import CountVectorizer\n",
        "from sklearn.feature_extraction.text import TfidfVectorizer\n",
        "\n",
        "#  unigram boolean vectorizer, set minimum document frequency to 5\n",
        "unigram_bool_vectorizer = CountVectorizer(encoding='latin-1', binary=True, min_df=5, stop_words='english')\n",
        "\n",
        "#  unigram term frequency vectorizer, set minimum document frequency to 5\n",
        "unigram_count_vectorizer = CountVectorizer(encoding='latin-1', binary=False, min_df=5, stop_words='english')\n",
        "\n",
        "#  unigram and bigram term frequency vectorizer, set minimum document frequency to 5\n",
        "gram12_count_vectorizer = CountVectorizer(encoding='latin-1', ngram_range=(1,2), min_df=5, stop_words='english')\n",
        "\n",
        "#  unigram tfidf vectorizer, set minimum document frequency to 5\n",
        "unigram_tfidf_vectorizer = TfidfVectorizer(encoding='latin-1', use_idf=True, min_df=5, stop_words='english')"
      ],
      "metadata": {
        "id": "DzzvPy430jSG"
      },
      "execution_count": null,
      "outputs": []
    },
    {
      "cell_type": "markdown",
      "source": [
        "# Unigram Boolean Vectorizer"
      ],
      "metadata": {
        "id": "1XpTKtnJ590G"
      }
    },
    {
      "cell_type": "markdown",
      "source": [
        "## MNB"
      ],
      "metadata": {
        "id": "tT5ECeurlDzK"
      }
    },
    {
      "cell_type": "markdown",
      "source": [],
      "metadata": {
        "id": "vxayimTIlA1d"
      }
    },
    {
      "cell_type": "code",
      "source": [
        "X_train_vec = unigram_bool_vectorizer.fit_transform(X_train)\n",
        "X_test_vec = unigram_bool_vectorizer.transform(X_test)\n",
        "\n",
        "from sklearn.naive_bayes import MultinomialNB\n",
        "\n",
        "# initialize the MNB model\n",
        "nb_clf= MultinomialNB()\n",
        "\n",
        "# use the training data to train the MNB model\n",
        "nb_clf.fit(X_train_vec,y_train)\n",
        "\n",
        "print(\"Accuracy score on test data set:\", nb_clf.score(X_test_vec,y_test))\n",
        "\n",
        "# print confusion matrix (row: ground truth; col: prediction)\n",
        "\n",
        "from sklearn.metrics import confusion_matrix\n",
        "y_pred = nb_clf.fit(X_train_vec, y_train).predict(X_test_vec)\n",
        "cm=confusion_matrix(y_test, y_pred)\n",
        "print(cm)\n",
        "\n",
        "# print classification report\n",
        "\n",
        "from sklearn.metrics import precision_score\n",
        "from sklearn.metrics import recall_score\n",
        "print(precision_score(y_test, y_pred, average=None))\n",
        "print(recall_score(y_test, y_pred, average=None))\n",
        "\n",
        "from sklearn.metrics import classification_report\n",
        "target_names = ['n', 'p']\n",
        "print(classification_report(y_test, y_pred, target_names=target_names))"
      ],
      "metadata": {
        "colab": {
          "base_uri": "https://localhost:8080/"
        },
        "id": "6y5nG--I3-8e",
        "outputId": "4a96bad6-f677-4a43-e233-85e1c6bd8b83"
      },
      "execution_count": null,
      "outputs": [
        {
          "output_type": "stream",
          "name": "stdout",
          "text": [
            "Accuracy score on test data set: 0.7567567567567568\n",
            "[[15  3]\n",
            " [ 6 13]]\n",
            "[0.71428571 0.8125    ]\n",
            "[0.83333333 0.68421053]\n",
            "              precision    recall  f1-score   support\n",
            "\n",
            "           n       0.71      0.83      0.77        18\n",
            "           p       0.81      0.68      0.74        19\n",
            "\n",
            "    accuracy                           0.76        37\n",
            "   macro avg       0.76      0.76      0.76        37\n",
            "weighted avg       0.76      0.76      0.76        37\n",
            "\n"
          ]
        }
      ]
    },
    {
      "cell_type": "code",
      "source": [
        "# cross validation\n",
        "\n",
        "from sklearn.pipeline import Pipeline\n",
        "from sklearn.model_selection import cross_val_score\n",
        "nb_clf_pipe = Pipeline([('vect', CountVectorizer(encoding='latin-1', binary=True)),('nb', MultinomialNB())])\n",
        "scores = cross_val_score(nb_clf_pipe, X, y, cv=5)\n",
        "avg=sum(scores)/len(scores)\n",
        "print(avg)"
      ],
      "metadata": {
        "colab": {
          "base_uri": "https://localhost:8080/"
        },
        "id": "IKK4Y6WjJYos",
        "outputId": "2d225a76-b897-44a0-88d5-6c2417002295"
      },
      "execution_count": null,
      "outputs": [
        {
          "output_type": "stream",
          "name": "stdout",
          "text": [
            "0.8035087719298245\n"
          ]
        }
      ]
    },
    {
      "cell_type": "code",
      "source": [
        "#error analysis\n",
        "err_cnt = 0\n",
        "for i in range(0, len(y_test)):\n",
        "    if(y_test[i]=='n' and y_pred[i]=='p'):\n",
        "        print(X_test[i])\n",
        "        err_cnt = err_cnt+1\n",
        "print(\"errors:\", err_cnt)\n",
        "\n",
        "err_cnt = 0\n",
        "for i in range(0, len(y_test)):\n",
        "    if(y_test[i]=='p' and y_pred[i]=='n'):\n",
        "        print(X_test[i])\n",
        "        err_cnt = err_cnt+1\n",
        "print(\"errors:\", err_cnt)"
      ],
      "metadata": {
        "colab": {
          "base_uri": "https://localhost:8080/"
        },
        "id": "hCzLi8dksGt6",
        "outputId": "eaf609c9-66ff-4034-8959-47004539895c"
      },
      "execution_count": null,
      "outputs": [
        {
          "output_type": "stream",
          "name": "stdout",
          "text": [
            "This place used to be great I cant believe its current state Instead of the cool dimlylit lounge that I was used to I was in a cheap smelly bar The music has no soul the bartender is mean This place no longer exudes a welcoming spirit The crowd is awkward and old I want my old hangout back\n",
            "the staff at this restaurant is very unfriendly the waitress for our table is extremely rude we need to wait for one hour for our order to come the place is noisy and the food isnt that good\n",
            "Olive Oil Garden was very disappointing I expect good food and good service at least when I go out to eat The meal was cold when we got it and the waitor had no manners whatsoever Dont go to the Olive Oil Garden \n",
            "errors: 3\n",
            "This place was one of the best restaurant I have been The price is little expensive but the food and the service is best around the area I went here with my family and we ordered 4 dishes They were all well cooked and their taste were nicely balanced Waiters came when we needed them without having to call for them I would definitely recommend it to everyone visiting this area \n",
            "I went to this ultraluxurious restaurant in Downtown New York which is known for its exotic and expensive cuisine I had a glass of champagne along with very expensive Caviar I had a delicious Chicken Pasta cooked in white sauce This was followed by mouth melting chocolate brownie and vanilla ice cream The service standards were superlative and I felt special visiting this restaurant \n",
            "The restaurant looked pretty good the people around me all ate and talked happily The environment was comfortable and it calmed me down from the busy life The food tasted fantastic and the price was suitable\n",
            "Ruby Tuesday is my favorite America Style Restaurant The salad is awesome And I like the baby pork ribs so much  So does the coconut shrimp\n",
            "\n",
            "Two days ago I went to the rooftop restaurant in NYC that served brunch it was one of the best brunch that I have ever had The view from the table was serene and I could see both the the Hudson River and the East River with outstanding views of Empire State Building the Chryslers tower Freedom tower and the Central park A great place with great food and a perplexing view\n",
            "errors: 6\n"
          ]
        }
      ]
    },
    {
      "cell_type": "code",
      "source": [
        "#based on error analysis considering \"0\" category as negative and \"1\" category as positive\n",
        "\n",
        "log_ratios = []\n",
        "features = unigram_bool_vectorizer.get_feature_names_out()\n",
        "negative_cond_prob = nb_clf.feature_log_prob_[0]\n",
        "positive_cond_prob = nb_clf.feature_log_prob_[1]\n",
        "\n",
        "for i in range(0, len(features)):\n",
        "  log_ratio = negative_cond_prob[i] - positive_cond_prob[i]\n",
        "  log_ratios.append(log_ratio)\n",
        "\n",
        "feature_ranks = sorted(zip(log_ratios, features))\n",
        "positive_10 = feature_ranks[:10]\n",
        "print(\"Positive words\")\n",
        "for i in range(0, len(positive_10)):\n",
        "    print(positive_10[i])\n",
        "print()\n",
        "\n",
        "negative_10 = feature_ranks[-10:]\n",
        "print(\"Negative words\")\n",
        "for i in range(0, len(negative_10)):\n",
        "    print(negative_10[i])\n",
        "print()"
      ],
      "metadata": {
        "colab": {
          "base_uri": "https://localhost:8080/"
        },
        "id": "4ibOiFvVI9MI",
        "outputId": "c29e71bb-8891-44cb-f680-10354f1cc2f8"
      },
      "execution_count": null,
      "outputs": [
        {
          "output_type": "stream",
          "name": "stdout",
          "text": [
            "Positive words\n",
            "(-2.3653211431988264, 'amazing')\n",
            "(-1.9598560350906618, 'need')\n",
            "(-1.5543909269824971, 'best')\n",
            "(-1.5543909269824971, 'fresh')\n",
            "(-1.4208595343579749, 'friendly')\n",
            "(-1.4208595343579749, 'nice')\n",
            "(-1.084387297736762, 'prices')\n",
            "(-1.084387297736762, 'sauce')\n",
            "(-0.8612437464225517, 'great')\n",
            "(-0.7277123537980295, 'dining')\n",
            "\n",
            "Negative words\n",
            "(0.7481941660115483, 'wasnt')\n",
            "(0.9305157228055023, 'table')\n",
            "(0.9305157228055028, 'went')\n",
            "(1.0846664026327613, 'bad')\n",
            "(1.2181977952572836, 'minutes')\n",
            "(1.6236629033654477, 'came')\n",
            "(1.7778135831927067, 'terrible')\n",
            "(1.7778135831927067, 'took')\n",
            "(1.911344975817229, 'said')\n",
            "(2.0291280114736128, 'asked')\n",
            "\n"
          ]
        }
      ]
    },
    {
      "cell_type": "markdown",
      "source": [
        "##SVM"
      ],
      "metadata": {
        "id": "fWlnZIxSJw3u"
      }
    },
    {
      "cell_type": "code",
      "source": [
        "from sklearn.svm import LinearSVC\n",
        "\n",
        "# initialize the LinearSVC model\n",
        "svm_clf = LinearSVC(C=1)\n",
        "\n",
        "# use the training data to train the model\n",
        "svm_clf.fit(X_train_vec,y_train)\n",
        "\n",
        "# test the classifier on the test data set, print accuracy score\n",
        "\n",
        "print(\"Accuracy score on test data set:\",svm_clf.score(X_test_vec,y_test))\n",
        "\n",
        "# print confusion matrix and classification report\n",
        "\n",
        "from sklearn.metrics import confusion_matrix\n",
        "y_pred = svm_clf.predict(X_test_vec)\n",
        "cm=confusion_matrix(y_test, y_pred)\n",
        "print(cm)\n",
        "print()\n",
        "\n",
        "from sklearn.metrics import classification_report\n",
        "target_names = ['n', 'p']\n",
        "print(classification_report(y_test, y_pred, target_names=target_names))"
      ],
      "metadata": {
        "colab": {
          "base_uri": "https://localhost:8080/"
        },
        "id": "KsmQL5ajk8UU",
        "outputId": "773bfe86-8661-43b6-b483-e3b0f327356f"
      },
      "execution_count": null,
      "outputs": [
        {
          "output_type": "stream",
          "name": "stdout",
          "text": [
            "Accuracy score on test data set: 0.6756756756756757\n",
            "[[13  5]\n",
            " [ 7 12]]\n",
            "\n",
            "              precision    recall  f1-score   support\n",
            "\n",
            "           n       0.65      0.72      0.68        18\n",
            "           p       0.71      0.63      0.67        19\n",
            "\n",
            "    accuracy                           0.68        37\n",
            "   macro avg       0.68      0.68      0.68        37\n",
            "weighted avg       0.68      0.68      0.68        37\n",
            "\n"
          ]
        }
      ]
    },
    {
      "cell_type": "code",
      "source": [
        "from sklearn.pipeline import Pipeline\n",
        "from sklearn.model_selection import cross_validate\n",
        "\n",
        "scoring = ['accuracy', 'f1_macro', 'f1_micro', 'precision_macro', 'recall_macro']\n",
        "svm_clf_pipe = Pipeline([('vect', CountVectorizer(encoding='latin-1', binary=True)),('svm', LinearSVC(C=1))])\n",
        "scores = cross_validate(svm_clf_pipe, X, y, cv=5, scoring=scoring, return_train_score=True)\n",
        "\n",
        "# retrieve scores from a metric\n",
        "def get_metric_scores (scores, metric, train_or_test, verbose=False):\n",
        "    metric_name = train_or_test + '_' + metric\n",
        "    print(metric_name) \n",
        "\n",
        "    metric_scores = scores[metric_name]\n",
        "    if (verbose == True):\n",
        "        print(metric_scores)\n",
        "    avg = sum(metric_scores) / len(metric_scores)\n",
        "    print('average')\n",
        "    avg_formatted = \"{:.3f}\".format(avg)\n",
        "    print(avg_formatted)\n",
        "\n",
        "#retrieve test accuracy scores\n",
        "print(get_metric_scores(scores, 'accuracy', 'test', verbose=True))"
      ],
      "metadata": {
        "colab": {
          "base_uri": "https://localhost:8080/"
        },
        "id": "8DBLD8eyqOjM",
        "outputId": "4677b5e8-31d5-43cc-f610-153c48bf639e"
      },
      "execution_count": null,
      "outputs": [
        {
          "output_type": "stream",
          "name": "stdout",
          "text": [
            "test_accuracy\n",
            "[0.84210526 0.84210526 0.77777778 0.83333333 0.83333333]\n",
            "average\n",
            "0.826\n",
            "None\n"
          ]
        }
      ]
    },
    {
      "cell_type": "code",
      "source": [
        "#error analysis\n",
        "err_cnt = 0\n",
        "for i in range(0, len(y_test)):\n",
        "    if(y_test[i]=='n' and y_pred[i]=='p'):\n",
        "        print(X_test[i])\n",
        "        err_cnt = err_cnt+1\n",
        "print(\"errors:\", err_cnt)\n",
        "\n",
        "err_cnt = 0\n",
        "for i in range(0, len(y_test)):\n",
        "    if(y_test[i]=='p' and y_pred[i]=='n'):\n",
        "        print(X_test[i])\n",
        "        err_cnt = err_cnt+1\n",
        "print(\"errors:\", err_cnt)"
      ],
      "metadata": {
        "colab": {
          "base_uri": "https://localhost:8080/"
        },
        "id": "wpZ1dymdtA1x",
        "outputId": "e71dff65-a33a-4ab2-877c-6dbed124c84b"
      },
      "execution_count": null,
      "outputs": [
        {
          "output_type": "stream",
          "name": "stdout",
          "text": [
            "Carlos Plate Shack was the worst dining experience of my life Although my Southern Comfort Plate sounded to die for the staff was extremely unhelpful at every turn We started off with drinks I had a sick Loganberry milkshake and my friends had fresh brewed but bland iced tea the ice likely melted and diluted Eventually our server returned a half hour later to take our orders I had the aforementioned Southern Comfort Plate while my friends ordered the Buffalo Chicken Plate and the Hawaiian Plate Lunch The Southern Comfort Plate came out first a good 15 minutes before the others and was extremely greasy The other 2 ended up being nearly room temperature when they came out Our server failed to return again to check on us until she brought our check rather abruptly We want to give this place a chance but its rather difficult to subject ourselves to such brutal service and pay money\n",
            "the staff at this restaurant is very unfriendly the waitress for our table is extremely rude we need to wait for one hour for our order to come the place is noisy and the food isnt that good\n",
            "After reading the reviews as well listening to all my friends rave about Dinosaur BarBQue I decided to try it out This is definitely the kind of place for you if you are into crowded noisy and peoplewalkingallover type of person Unfortunately I am not that type of person I found the place dirty noisy too crowded and the smell of the people over powered the smell of the food There were also loads of beer floating around and as the minutes flowed by people just became rowdier Although the food was good I would not rate it as you have to try it before you die kinda food Sorry Dinosaur BarBQue you are just not my kinda dig\n",
            "Olive Oil Garden was very disappointing I expect good food and good service at least when I go out to eat The meal was cold when we got it and the waitor had no manners whatsoever Dont go to the Olive Oil Garden \n",
            "The service was way below average and we had to wait 10 minutes before we could be seated Then had to wait 20 minutes before the menu was shown to us Let me tell you that the food at Kitty Hoynes Irish Pub  Restaurant was terrible The vegies were under cooked and the lamb was over cooked the bread was dry and the beer was flat Need I say more\n",
            "errors: 5\n",
            "This place was one of the best restaurant I have been The price is little expensive but the food and the service is best around the area I went here with my family and we ordered 4 dishes They were all well cooked and their taste were nicely balanced Waiters came when we needed them without having to call for them I would definitely recommend it to everyone visiting this area \n",
            "The best restaurant I have gone to is when I went to AppleBee with my friends the service there is so nice Food is delicious I liked the steak very much The environment is very nice and clean which makes me want to go there for more times Also the feeling when talking with my friends at such a good restaurant after skiing is wonderful I want to go there again\n",
            "I ate at this restaurant called Banana Leaf As I entered the restaurant I really liked the ambiance I ordered noodle soup and fried rice with spicy black bean curry The service was pretty fast and the food tasted amazing There was a lot flavor in the food which I truly enjoyed Two thumbs up for Banana Leaf and I would totally recommend this restaurant\n",
            "I went to this ultraluxurious restaurant in Downtown New York which is known for its exotic and expensive cuisine I had a glass of champagne along with very expensive Caviar I had a delicious Chicken Pasta cooked in white sauce This was followed by mouth melting chocolate brownie and vanilla ice cream The service standards were superlative and I felt special visiting this restaurant \n",
            "This restaurant ROCKS I mean the food is great and people are great Everything is great great just great I love it I like it \n",
            "Ruby Tuesday is my favorite America Style Restaurant The salad is awesome And I like the baby pork ribs so much  So does the coconut shrimp\n",
            "Two days ago I went to the rooftop restaurant in NYC that served brunch it was one of the best brunch that I have ever had The view from the table was serene and I could see both the the Hudson River and the East River with outstanding views of Empire State Building the Chryslers tower Freedom tower and the Central park A great place with great food and a perplexing view\n",
            "errors: 7\n"
          ]
        }
      ]
    },
    {
      "cell_type": "code",
      "source": [
        "#Top 10 features\n",
        "\n",
        "feature_ranks = sorted(zip(svm_clf.coef_[0], unigram_bool_vectorizer.get_feature_names_out()))\n",
        "\n",
        "##Top 10 features for negative words\n",
        "negative_10 = feature_ranks[:10]\n",
        "print(\"Negative words\")\n",
        "for i in range(0, len(negative_10)):\n",
        "    print(negative_10[i])\n",
        "print()\n",
        "\n",
        "##Top 10 features for positive words\n",
        "positive_10 = feature_ranks[-10:]\n",
        "print(\"Positive words\")\n",
        "for i in range(0, len(positive_10)):\n",
        "    print(positive_10[i])\n",
        "print()"
      ],
      "metadata": {
        "colab": {
          "base_uri": "https://localhost:8080/"
        },
        "id": "nc0CVMjixCZ3",
        "outputId": "82156a4a-864c-4c72-b65d-ce7bec3c4852"
      },
      "execution_count": null,
      "outputs": [
        {
          "output_type": "stream",
          "name": "stdout",
          "text": [
            "Negative words\n",
            "(-0.7384272170916907, 'said')\n",
            "(-0.6951709541180632, 'asked')\n",
            "(-0.6675277516753709, 'service')\n",
            "(-0.5941878360098103, 'went')\n",
            "(-0.5454756660166099, 'bad')\n",
            "(-0.48024927398552053, 'restaurant')\n",
            "(-0.4432394110496981, 'salad')\n",
            "(-0.43210125490870066, 'dining')\n",
            "(-0.40313206674786795, 'dine')\n",
            "(-0.33664336745914003, 'served')\n",
            "\n",
            "Positive words\n",
            "(0.29523827386623713, 'life')\n",
            "(0.3153637579778321, 'nice')\n",
            "(0.3256870066232356, 'time')\n",
            "(0.37196779864809654, 'prices')\n",
            "(0.4627389246943684, 'amazing')\n",
            "(0.49089923723518547, 'waiters')\n",
            "(0.7054881439793739, 'high')\n",
            "(0.9943319447218588, 'need')\n",
            "(1.0257639354556223, 'fresh')\n",
            "(1.0584907189356194, 'best')\n",
            "\n"
          ]
        }
      ]
    },
    {
      "cell_type": "markdown",
      "source": [
        "## Unigram Term Frequency Vectorizer"
      ],
      "metadata": {
        "id": "UPtPID181U-c"
      }
    },
    {
      "cell_type": "markdown",
      "source": [
        "##MNB"
      ],
      "metadata": {
        "id": "Vu0_0FHEIXtf"
      }
    },
    {
      "cell_type": "code",
      "source": [
        "X_train_vec = unigram_count_vectorizer.fit_transform(X_train)\n",
        "X_test_vec = unigram_count_vectorizer.transform(X_test)\n",
        "\n",
        "from sklearn.naive_bayes import MultinomialNB\n",
        "\n",
        "# initialize the MNB model\n",
        "nb_clf= MultinomialNB()\n",
        "\n",
        "# use the training data to train the MNB model\n",
        "nb_clf.fit(X_train_vec,y_train)\n",
        "\n",
        "print(\"Accuracy score on test data set:\", nb_clf.score(X_test_vec,y_test))\n",
        "\n",
        "# print confusion matrix (row: ground truth; col: prediction)\n",
        "\n",
        "from sklearn.metrics import confusion_matrix\n",
        "y_pred = nb_clf.fit(X_train_vec, y_train).predict(X_test_vec)\n",
        "cm=confusion_matrix(y_test, y_pred)\n",
        "print(cm)\n",
        "\n",
        "# print classification report\n",
        "\n",
        "from sklearn.metrics import precision_score\n",
        "from sklearn.metrics import recall_score\n",
        "print(precision_score(y_test, y_pred, average=None))\n",
        "print(recall_score(y_test, y_pred, average=None))\n",
        "\n",
        "from sklearn.metrics import classification_report\n",
        "target_names = ['n', 'p']\n",
        "print(classification_report(y_test, y_pred, target_names=target_names))"
      ],
      "metadata": {
        "colab": {
          "base_uri": "https://localhost:8080/"
        },
        "id": "KzXDME2Y1Uhu",
        "outputId": "98b34fd0-69b0-41a0-d2e6-a9a6d409ec8f"
      },
      "execution_count": null,
      "outputs": [
        {
          "output_type": "stream",
          "name": "stdout",
          "text": [
            "Accuracy score on test data set: 0.8108108108108109\n",
            "[[14  4]\n",
            " [ 3 16]]\n",
            "[0.82352941 0.8       ]\n",
            "[0.77777778 0.84210526]\n",
            "              precision    recall  f1-score   support\n",
            "\n",
            "           n       0.82      0.78      0.80        18\n",
            "           p       0.80      0.84      0.82        19\n",
            "\n",
            "    accuracy                           0.81        37\n",
            "   macro avg       0.81      0.81      0.81        37\n",
            "weighted avg       0.81      0.81      0.81        37\n",
            "\n"
          ]
        }
      ]
    },
    {
      "cell_type": "code",
      "source": [
        "# cross validation\n",
        "\n",
        "from sklearn.pipeline import Pipeline\n",
        "from sklearn.model_selection import cross_val_score\n",
        "nb_clf_pipe = Pipeline([('vect', CountVectorizer(encoding='latin-1', binary=False)),('nb', MultinomialNB())])\n",
        "scores = cross_val_score(nb_clf_pipe, X, y, cv=5)\n",
        "avg=sum(scores)/len(scores)\n",
        "print(avg)"
      ],
      "metadata": {
        "colab": {
          "base_uri": "https://localhost:8080/"
        },
        "id": "6amO0PJiIAN9",
        "outputId": "d2f6a104-3350-430e-adb7-00773c2859d0"
      },
      "execution_count": null,
      "outputs": [
        {
          "output_type": "stream",
          "name": "stdout",
          "text": [
            "0.8690058479532163\n"
          ]
        }
      ]
    },
    {
      "cell_type": "code",
      "source": [
        "#error analysis\n",
        "err_cnt = 0\n",
        "for i in range(0, len(y_test)):\n",
        "    if(y_test[i]=='n' and y_pred[i]=='p'):\n",
        "        print(X_test[i])\n",
        "        err_cnt = err_cnt+1\n",
        "print(\"errors:\", err_cnt)\n",
        "\n",
        "err_cnt = 0\n",
        "for i in range(0, len(y_test)):\n",
        "    if(y_test[i]=='p' and y_pred[i]=='n'):\n",
        "        print(X_test[i])\n",
        "        err_cnt = err_cnt+1\n",
        "print(\"errors:\", err_cnt)"
      ],
      "metadata": {
        "colab": {
          "base_uri": "https://localhost:8080/"
        },
        "id": "uFLgh6bhsKkl",
        "outputId": "e8d26385-992c-4e13-8112-1724ee9670a1"
      },
      "execution_count": null,
      "outputs": [
        {
          "output_type": "stream",
          "name": "stdout",
          "text": [
            "I went there with two friends at 6pm Long queue was there But it didnt take us long to wait The waiter was nice but worked in a hurry We ordered Todays Special some drinks and two icecreams I had a steak a little bit too salty but acceptable My friends didnt like their lamb chop and cod filet that much It costed us almost 100 Not worth it Will not visit there any more\n",
            "the staff at this restaurant is very unfriendly the waitress for our table is extremely rude we need to wait for one hour for our order to come the place is noisy and the food isnt that good\n",
            "This diner was not at all up to par Ive been to many diners and get eggs benedict sometimes There was nacho cheese on my eggs and a plateful of watery runny eggs And it smelled like smoke And there was no heat in the dead of winter Their prices are not ANYWHERE near what is reasonable Cool mom  pop place but terrible food smell and prices\n",
            "Olive Oil Garden was very disappointing I expect good food and good service at least when I go out to eat The meal was cold when we got it and the waitor had no manners whatsoever Dont go to the Olive Oil Garden \n",
            "errors: 4\n",
            "I went to this ultraluxurious restaurant in Downtown New York which is known for its exotic and expensive cuisine I had a glass of champagne along with very expensive Caviar I had a delicious Chicken Pasta cooked in white sauce This was followed by mouth melting chocolate brownie and vanilla ice cream The service standards were superlative and I felt special visiting this restaurant \n",
            "Ruby Tuesday is my favorite America Style Restaurant The salad is awesome And I like the baby pork ribs so much  So does the coconut shrimp\n",
            "\n",
            "errors: 3\n"
          ]
        }
      ]
    },
    {
      "cell_type": "code",
      "source": [
        "#based on error analysis considering \"0\" category as negative and \"1\" category as positive\n",
        "\n",
        "log_ratios = []\n",
        "features = unigram_count_vectorizer.get_feature_names_out()\n",
        "negative_cond_prob = nb_clf.feature_log_prob_[0]\n",
        "positive_cond_prob = nb_clf.feature_log_prob_[1]\n",
        "\n",
        "for i in range(0, len(features)):\n",
        "  log_ratio = negative_cond_prob[i] - positive_cond_prob[i]\n",
        "  log_ratios.append(log_ratio)\n",
        "\n",
        "feature_ranks = sorted(zip(log_ratios, features))\n",
        "positive_10 = feature_ranks[:10]\n",
        "print(\"Positive words\")\n",
        "for i in range(0, len(positive_10)):\n",
        "    print(positive_10[i])\n",
        "print()\n",
        "\n",
        "negative_10 = feature_ranks[-10:]\n",
        "print(\"Negative words\")\n",
        "for i in range(0, len(negative_10)):\n",
        "    print(negative_10[i])\n",
        "print()"
      ],
      "metadata": {
        "colab": {
          "base_uri": "https://localhost:8080/"
        },
        "id": "S7_RUt2sLurZ",
        "outputId": "cd23f65c-8deb-4516-ffee-999f71f02036"
      },
      "execution_count": null,
      "outputs": [
        {
          "output_type": "stream",
          "name": "stdout",
          "text": [
            "Positive words\n",
            "(-2.6969096578540186, 'amazing')\n",
            "(-2.0037624772940736, 'need')\n",
            "(-1.8702310846695505, 'best')\n",
            "(-1.8214409205001187, 'fresh')\n",
            "(-1.4647659765613863, 'friendly')\n",
            "(-1.4647659765613863, 'nice')\n",
            "(-1.3106152967341282, 'prices')\n",
            "(-1.0593008684532217, 'sauce')\n",
            "(-0.9051501886259636, 'definitely')\n",
            "(-0.7716187960014409, 'dining')\n",
            "\n",
            "Negative words\n",
            "(0.8866092806020918, 'table')\n",
            "(1.0872799760642424, 'salad')\n",
            "(1.1742913530538721, 'bad')\n",
            "(1.1742913530538721, 'wasnt')\n",
            "(1.492745084172407, 'minutes')\n",
            "(1.7339071409892952, 'came')\n",
            "(1.8674385336138175, 'said')\n",
            "(1.8674385336138175, 'terrible')\n",
            "(1.9852215692702013, 'took')\n",
            "(2.0905820849280277, 'asked')\n",
            "\n"
          ]
        }
      ]
    },
    {
      "cell_type": "markdown",
      "source": [
        "##SVM"
      ],
      "metadata": {
        "id": "xQPNkMQsIV_v"
      }
    },
    {
      "cell_type": "code",
      "source": [
        "from sklearn.svm import LinearSVC\n",
        "\n",
        "# initialize the LinearSVC model\n",
        "svm_clf = LinearSVC(C=1)\n",
        "\n",
        "# use the training data to train the model\n",
        "svm_clf.fit(X_train_vec,y_train)\n",
        "\n",
        "# test the classifier on the test data set, print accuracy score\n",
        "\n",
        "print(\"Accuracy score on test data set:\",svm_clf.score(X_test_vec,y_test))\n",
        "\n",
        "# print confusion matrix and classification report\n",
        "\n",
        "from sklearn.metrics import confusion_matrix\n",
        "y_pred = svm_clf.predict(X_test_vec)\n",
        "cm=confusion_matrix(y_test, y_pred)\n",
        "print(cm)\n",
        "print()\n",
        "\n",
        "from sklearn.metrics import classification_report\n",
        "target_names = ['n', 'p']\n",
        "print(classification_report(y_test, y_pred, target_names=target_names))"
      ],
      "metadata": {
        "colab": {
          "base_uri": "https://localhost:8080/"
        },
        "id": "wte_L7vXIVVK",
        "outputId": "8053a771-348d-4ae8-b025-e62557ca17f3"
      },
      "execution_count": null,
      "outputs": [
        {
          "output_type": "stream",
          "name": "stdout",
          "text": [
            "Accuracy score on test data set: 0.7837837837837838\n",
            "[[15  3]\n",
            " [ 5 14]]\n",
            "\n",
            "              precision    recall  f1-score   support\n",
            "\n",
            "           n       0.75      0.83      0.79        18\n",
            "           p       0.82      0.74      0.78        19\n",
            "\n",
            "    accuracy                           0.78        37\n",
            "   macro avg       0.79      0.79      0.78        37\n",
            "weighted avg       0.79      0.78      0.78        37\n",
            "\n"
          ]
        }
      ]
    },
    {
      "cell_type": "code",
      "source": [
        "from sklearn.pipeline import Pipeline\n",
        "from sklearn.model_selection import cross_validate\n",
        "\n",
        "scoring = ['accuracy', 'f1_macro', 'f1_micro', 'precision_macro', 'recall_macro']\n",
        "svm_clf_pipe = Pipeline([('vect', CountVectorizer(encoding='latin-1', binary=False)),('svm', LinearSVC(C=1))])\n",
        "scores = cross_validate(svm_clf_pipe, X, y, cv=5, scoring=scoring, return_train_score=True)\n",
        "\n",
        "# retrieve scores from a metric\n",
        "def get_metric_scores (scores, metric, train_or_test, verbose=False):\n",
        "    metric_name = train_or_test + '_' + metric\n",
        "    print(metric_name) \n",
        "\n",
        "    metric_scores = scores[metric_name]\n",
        "    if (verbose == True):\n",
        "        print(metric_scores)\n",
        "    avg = sum(metric_scores) / len(metric_scores)\n",
        "    print('average')\n",
        "    avg_formatted = \"{:.3f}\".format(avg)\n",
        "    print(avg_formatted)\n",
        "\n",
        "#retrieve test accuracy scores\n",
        "print(get_metric_scores(scores, 'accuracy', 'test', verbose=True))"
      ],
      "metadata": {
        "colab": {
          "base_uri": "https://localhost:8080/"
        },
        "id": "yyckXIcZIqqT",
        "outputId": "e419fd94-179b-473b-d035-befc44769a3a"
      },
      "execution_count": null,
      "outputs": [
        {
          "output_type": "stream",
          "name": "stdout",
          "text": [
            "test_accuracy\n",
            "[0.78947368 0.78947368 0.72222222 0.77777778 0.83333333]\n",
            "average\n",
            "0.782\n",
            "None\n"
          ]
        }
      ]
    },
    {
      "cell_type": "code",
      "source": [
        "#error analysis\n",
        "err_cnt = 0\n",
        "for i in range(0, len(y_test)):\n",
        "    if(y_test[i]=='n' and y_pred[i]=='p'):\n",
        "        print(X_test[i])\n",
        "        err_cnt = err_cnt+1\n",
        "print(\"errors:\", err_cnt)\n",
        "\n",
        "err_cnt = 0\n",
        "for i in range(0, len(y_test)):\n",
        "    if(y_test[i]=='p' and y_pred[i]=='n'):\n",
        "        print(X_test[i])\n",
        "        err_cnt = err_cnt+1\n",
        "print(\"errors:\", err_cnt)"
      ],
      "metadata": {
        "colab": {
          "base_uri": "https://localhost:8080/"
        },
        "id": "jIC_NIxBs-Tq",
        "outputId": "84b1b990-a397-43f0-c556-1714b0a395a7"
      },
      "execution_count": null,
      "outputs": [
        {
          "output_type": "stream",
          "name": "stdout",
          "text": [
            "the staff at this restaurant is very unfriendly the waitress for our table is extremely rude we need to wait for one hour for our order to come the place is noisy and the food isnt that good\n",
            "Olive Oil Garden was very disappointing I expect good food and good service at least when I go out to eat The meal was cold when we got it and the waitor had no manners whatsoever Dont go to the Olive Oil Garden \n",
            "The service was way below average and we had to wait 10 minutes before we could be seated Then had to wait 20 minutes before the menu was shown to us Let me tell you that the food at Kitty Hoynes Irish Pub  Restaurant was terrible The vegies were under cooked and the lamb was over cooked the bread was dry and the beer was flat Need I say more\n",
            "errors: 3\n",
            "This place was one of the best restaurant I have been The price is little expensive but the food and the service is best around the area I went here with my family and we ordered 4 dishes They were all well cooked and their taste were nicely balanced Waiters came when we needed them without having to call for them I would definitely recommend it to everyone visiting this area \n",
            "I ate at this restaurant called Banana Leaf As I entered the restaurant I really liked the ambiance I ordered noodle soup and fried rice with spicy black bean curry The service was pretty fast and the food tasted amazing There was a lot flavor in the food which I truly enjoyed Two thumbs up for Banana Leaf and I would totally recommend this restaurant\n",
            "I went to this ultraluxurious restaurant in Downtown New York which is known for its exotic and expensive cuisine I had a glass of champagne along with very expensive Caviar I had a delicious Chicken Pasta cooked in white sauce This was followed by mouth melting chocolate brownie and vanilla ice cream The service standards were superlative and I felt special visiting this restaurant \n",
            "Ruby Tuesday is my favorite America Style Restaurant The salad is awesome And I like the baby pork ribs so much  So does the coconut shrimp\n",
            "Two days ago I went to the rooftop restaurant in NYC that served brunch it was one of the best brunch that I have ever had The view from the table was serene and I could see both the the Hudson River and the East River with outstanding views of Empire State Building the Chryslers tower Freedom tower and the Central park A great place with great food and a perplexing view\n",
            "errors: 5\n"
          ]
        }
      ]
    },
    {
      "cell_type": "code",
      "source": [
        "#Top 10 features\n",
        "\n",
        "feature_ranks = sorted(zip(svm_clf.coef_[0], unigram_count_vectorizer.get_feature_names_out()))\n",
        "\n",
        "##Top 10 features for negative words\n",
        "negative_10 = feature_ranks[:10]\n",
        "print(\"Negative words\")\n",
        "for i in range(0, len(negative_10)):\n",
        "    print(negative_10[i])\n",
        "print()\n",
        "\n",
        "##Top 10 features for positive words\n",
        "positive_10 = feature_ranks[-10:]\n",
        "print(\"Positive words\")\n",
        "for i in range(0, len(positive_10)):\n",
        "    print(positive_10[i])\n",
        "print()"
      ],
      "metadata": {
        "colab": {
          "base_uri": "https://localhost:8080/"
        },
        "id": "2Ljo1tPgDtq8",
        "outputId": "71505915-d485-478a-9c9e-e1a5592bfe50"
      },
      "execution_count": null,
      "outputs": [
        {
          "output_type": "stream",
          "name": "stdout",
          "text": [
            "Negative words\n",
            "(-0.6414137953146043, 'went')\n",
            "(-0.612896264023363, 'said')\n",
            "(-0.5309190478286097, 'service')\n",
            "(-0.4958628520728307, 'like')\n",
            "(-0.4626822653488024, 'dishes')\n",
            "(-0.4324623661418195, 'salad')\n",
            "(-0.42384150185409464, 'place')\n",
            "(-0.4203410506860616, 'asked')\n",
            "(-0.3585760145062391, 'long')\n",
            "(-0.3488530298600209, 'terrible')\n",
            "\n",
            "Positive words\n",
            "(0.3648355580557142, 'dont')\n",
            "(0.3745064021322023, 'amazing')\n",
            "(0.3925445709302675, 'high')\n",
            "(0.40133509919044297, 'friendly')\n",
            "(0.43659998921783605, 'waiters')\n",
            "(0.5486712601703337, 'nice')\n",
            "(0.6475654690390791, 'quality')\n",
            "(0.6671221207599436, 'fresh')\n",
            "(0.7633462544255637, 'best')\n",
            "(0.8813073373968876, 'need')\n",
            "\n"
          ]
        }
      ]
    },
    {
      "cell_type": "markdown",
      "source": [
        "#Unigram and Bigram term frequency vectorizer\n",
        "\n",
        "## MNB"
      ],
      "metadata": {
        "id": "fwbzVOWbLCDc"
      }
    },
    {
      "cell_type": "code",
      "source": [
        "X_train_vec = gram12_count_vectorizer.fit_transform(X_train)\n",
        "X_test_vec = gram12_count_vectorizer.transform(X_test)\n",
        "\n",
        "from sklearn.naive_bayes import MultinomialNB\n",
        "\n",
        "# initialize the MNB model\n",
        "nb_clf= MultinomialNB()\n",
        "\n",
        "# use the training data to train the MNB model\n",
        "nb_clf.fit(X_train_vec,y_train)\n",
        "\n",
        "print(\"Accuracy score on test data set:\", nb_clf.score(X_test_vec,y_test))\n",
        "\n",
        "# print confusion matrix (row: ground truth; col: prediction)\n",
        "\n",
        "from sklearn.metrics import confusion_matrix\n",
        "y_pred = nb_clf.fit(X_train_vec, y_train).predict(X_test_vec)\n",
        "cm=confusion_matrix(y_test, y_pred)\n",
        "print(cm)\n",
        "\n",
        "# print classification report\n",
        "\n",
        "from sklearn.metrics import precision_score\n",
        "from sklearn.metrics import recall_score\n",
        "print(precision_score(y_test, y_pred, average=None))\n",
        "print(recall_score(y_test, y_pred, average=None))\n",
        "\n",
        "from sklearn.metrics import classification_report\n",
        "target_names = ['n', 'p']\n",
        "print(classification_report(y_test, y_pred, target_names=target_names))"
      ],
      "metadata": {
        "colab": {
          "base_uri": "https://localhost:8080/"
        },
        "id": "7X6F-VnjIuaG",
        "outputId": "4fd58e7a-3ea2-43d4-91a9-17941d419f24"
      },
      "execution_count": null,
      "outputs": [
        {
          "output_type": "stream",
          "name": "stdout",
          "text": [
            "Accuracy score on test data set: 0.8108108108108109\n",
            "[[14  4]\n",
            " [ 3 16]]\n",
            "[0.82352941 0.8       ]\n",
            "[0.77777778 0.84210526]\n",
            "              precision    recall  f1-score   support\n",
            "\n",
            "           n       0.82      0.78      0.80        18\n",
            "           p       0.80      0.84      0.82        19\n",
            "\n",
            "    accuracy                           0.81        37\n",
            "   macro avg       0.81      0.81      0.81        37\n",
            "weighted avg       0.81      0.81      0.81        37\n",
            "\n"
          ]
        }
      ]
    },
    {
      "cell_type": "code",
      "source": [
        "# cross validation\n",
        "\n",
        "from sklearn.pipeline import Pipeline\n",
        "from sklearn.model_selection import cross_val_score\n",
        "nb_clf_pipe = Pipeline([('vect', CountVectorizer(encoding='latin-1', ngram_range=(1,2))),('nb', MultinomialNB())])\n",
        "scores = cross_val_score(nb_clf_pipe, X, y, cv=5)\n",
        "avg=sum(scores)/len(scores)\n",
        "print(avg)"
      ],
      "metadata": {
        "colab": {
          "base_uri": "https://localhost:8080/"
        },
        "id": "fHKTjVJBLRoS",
        "outputId": "80114669-b9a4-4673-d683-fdff813c1c06"
      },
      "execution_count": null,
      "outputs": [
        {
          "output_type": "stream",
          "name": "stdout",
          "text": [
            "0.87953216374269\n"
          ]
        }
      ]
    },
    {
      "cell_type": "code",
      "source": [
        "#error analysis\n",
        "err_cnt = 0\n",
        "for i in range(0, len(y_test)):\n",
        "    if(y_test[i]=='n' and y_pred[i]=='p'):\n",
        "        print(X_test[i])\n",
        "        err_cnt = err_cnt+1\n",
        "print(\"errors:\", err_cnt)\n",
        "\n",
        "err_cnt = 0\n",
        "for i in range(0, len(y_test)):\n",
        "    if(y_test[i]=='p' and y_pred[i]=='n'):\n",
        "        print(X_test[i])\n",
        "        err_cnt = err_cnt+1\n",
        "print(\"errors:\", err_cnt)"
      ],
      "metadata": {
        "colab": {
          "base_uri": "https://localhost:8080/"
        },
        "id": "frc5wM1ysN2F",
        "outputId": "9ae13843-6e59-41e4-9d99-4e5cf808692a"
      },
      "execution_count": null,
      "outputs": [
        {
          "output_type": "stream",
          "name": "stdout",
          "text": [
            "I went there with two friends at 6pm Long queue was there But it didnt take us long to wait The waiter was nice but worked in a hurry We ordered Todays Special some drinks and two icecreams I had a steak a little bit too salty but acceptable My friends didnt like their lamb chop and cod filet that much It costed us almost 100 Not worth it Will not visit there any more\n",
            "the staff at this restaurant is very unfriendly the waitress for our table is extremely rude we need to wait for one hour for our order to come the place is noisy and the food isnt that good\n",
            "This diner was not at all up to par Ive been to many diners and get eggs benedict sometimes There was nacho cheese on my eggs and a plateful of watery runny eggs And it smelled like smoke And there was no heat in the dead of winter Their prices are not ANYWHERE near what is reasonable Cool mom  pop place but terrible food smell and prices\n",
            "Olive Oil Garden was very disappointing I expect good food and good service at least when I go out to eat The meal was cold when we got it and the waitor had no manners whatsoever Dont go to the Olive Oil Garden \n",
            "errors: 4\n",
            "I went to this ultraluxurious restaurant in Downtown New York which is known for its exotic and expensive cuisine I had a glass of champagne along with very expensive Caviar I had a delicious Chicken Pasta cooked in white sauce This was followed by mouth melting chocolate brownie and vanilla ice cream The service standards were superlative and I felt special visiting this restaurant \n",
            "Ruby Tuesday is my favorite America Style Restaurant The salad is awesome And I like the baby pork ribs so much  So does the coconut shrimp\n",
            "\n",
            "errors: 3\n"
          ]
        }
      ]
    },
    {
      "cell_type": "code",
      "source": [
        "#based on error analysis considering \"0\" category as negative and \"1\" category as positive\n",
        "\n",
        "log_ratios = []\n",
        "features = gram12_count_vectorizer.get_feature_names_out()\n",
        "negative_cond_prob = nb_clf.feature_log_prob_[0]\n",
        "positive_cond_prob = nb_clf.feature_log_prob_[1]\n",
        "\n",
        "for i in range(0, len(features)):\n",
        "  log_ratio = negative_cond_prob[i] - positive_cond_prob[i]\n",
        "  log_ratios.append(log_ratio)\n",
        "\n",
        "feature_ranks = sorted(zip(log_ratios, features))\n",
        "positive_10 = feature_ranks[:10]\n",
        "print(\"Positive words\")\n",
        "for i in range(0, len(positive_10)):\n",
        "    print(positive_10[i])\n",
        "print()\n",
        "\n",
        "negative_10 = feature_ranks[-10:]\n",
        "print(\"Negative words\")\n",
        "for i in range(0, len(negative_10)):\n",
        "    print(negative_10[i])\n",
        "print()"
      ],
      "metadata": {
        "colab": {
          "base_uri": "https://localhost:8080/"
        },
        "id": "6wlbWmSxLyDA",
        "outputId": "6c6b8269-c5d7-4329-8f25-778e9b5aa062"
      },
      "execution_count": null,
      "outputs": [
        {
          "output_type": "stream",
          "name": "stdout",
          "text": [
            "Positive words\n",
            "(-2.6969096578540186, 'amazing')\n",
            "(-2.0037624772940736, 'need')\n",
            "(-1.8702310846695505, 'best')\n",
            "(-1.8214409205001187, 'fresh')\n",
            "(-1.4647659765613863, 'friendly')\n",
            "(-1.4647659765613863, 'nice')\n",
            "(-1.3106152967341282, 'prices')\n",
            "(-1.0593008684532217, 'sauce')\n",
            "(-0.9051501886259636, 'definitely')\n",
            "(-0.7716187960014409, 'dining')\n",
            "\n",
            "Negative words\n",
            "(0.8866092806020918, 'table')\n",
            "(1.0872799760642424, 'salad')\n",
            "(1.1742913530538721, 'bad')\n",
            "(1.1742913530538721, 'wasnt')\n",
            "(1.492745084172407, 'minutes')\n",
            "(1.7339071409892952, 'came')\n",
            "(1.8674385336138175, 'said')\n",
            "(1.8674385336138175, 'terrible')\n",
            "(1.9852215692702013, 'took')\n",
            "(2.0905820849280277, 'asked')\n",
            "\n"
          ]
        }
      ]
    },
    {
      "cell_type": "markdown",
      "source": [
        "##SVM"
      ],
      "metadata": {
        "id": "Rvx5-cEFLwKW"
      }
    },
    {
      "cell_type": "code",
      "source": [
        "from sklearn.svm import LinearSVC\n",
        "\n",
        "# initialize the LinearSVC model\n",
        "svm_clf = LinearSVC(C=1)\n",
        "\n",
        "# use the training data to train the model\n",
        "svm_clf.fit(X_train_vec,y_train)\n",
        "\n",
        "# test the classifier on the test data set, print accuracy score\n",
        "\n",
        "print(\"Accuracy score on test data set:\",svm_clf.score(X_test_vec,y_test))\n",
        "\n",
        "# print confusion matrix and classification report\n",
        "\n",
        "from sklearn.metrics import confusion_matrix\n",
        "y_pred = svm_clf.predict(X_test_vec)\n",
        "cm=confusion_matrix(y_test, y_pred)\n",
        "print(cm)\n",
        "print()\n",
        "\n",
        "from sklearn.metrics import classification_report\n",
        "target_names = ['n', 'p']\n",
        "print(classification_report(y_test, y_pred, target_names=target_names))"
      ],
      "metadata": {
        "colab": {
          "base_uri": "https://localhost:8080/"
        },
        "id": "KofEbe50LvTM",
        "outputId": "94de9a64-7691-4a60-dc58-54fc3a252cac"
      },
      "execution_count": null,
      "outputs": [
        {
          "output_type": "stream",
          "name": "stdout",
          "text": [
            "Accuracy score on test data set: 0.7837837837837838\n",
            "[[15  3]\n",
            " [ 5 14]]\n",
            "\n",
            "              precision    recall  f1-score   support\n",
            "\n",
            "           n       0.75      0.83      0.79        18\n",
            "           p       0.82      0.74      0.78        19\n",
            "\n",
            "    accuracy                           0.78        37\n",
            "   macro avg       0.79      0.79      0.78        37\n",
            "weighted avg       0.79      0.78      0.78        37\n",
            "\n"
          ]
        }
      ]
    },
    {
      "cell_type": "code",
      "source": [
        "from sklearn.pipeline import Pipeline\n",
        "from sklearn.model_selection import cross_validate\n",
        "\n",
        "scoring = ['accuracy', 'f1_macro', 'f1_micro', 'precision_macro', 'recall_macro']\n",
        "svm_clf_pipe = Pipeline([('vect', CountVectorizer(encoding='latin-1', ngram_range=(1,2))),('svm', LinearSVC(C=1))])\n",
        "scores = cross_validate(svm_clf_pipe, X, y, cv=5, scoring=scoring, return_train_score=True)\n",
        "\n",
        "# retrieve scores from a metric\n",
        "def get_metric_scores (scores, metric, train_or_test, verbose=False):\n",
        "    metric_name = train_or_test + '_' + metric\n",
        "    print(metric_name) \n",
        "\n",
        "    metric_scores = scores[metric_name]\n",
        "    if (verbose == True):\n",
        "        print(metric_scores)\n",
        "    avg = sum(metric_scores) / len(metric_scores)\n",
        "    print('average')\n",
        "    avg_formatted = \"{:.3f}\".format(avg)\n",
        "    print(avg_formatted)\n",
        "\n",
        "#retrieve test accuracy scores\n",
        "print(get_metric_scores(scores, 'accuracy', 'test', verbose=True))"
      ],
      "metadata": {
        "colab": {
          "base_uri": "https://localhost:8080/"
        },
        "id": "coLRU5aML6UJ",
        "outputId": "ea9a1b77-d8b0-4995-f67a-e0f79e2ef8af"
      },
      "execution_count": null,
      "outputs": [
        {
          "output_type": "stream",
          "name": "stdout",
          "text": [
            "test_accuracy\n",
            "[0.78947368 0.84210526 0.77777778 0.77777778 0.83333333]\n",
            "average\n",
            "0.804\n",
            "None\n"
          ]
        }
      ]
    },
    {
      "cell_type": "code",
      "source": [
        "#error analysis\n",
        "err_cnt = 0\n",
        "for i in range(0, len(y_test)):\n",
        "    if(y_test[i]=='n' and y_pred[i]=='p'):\n",
        "        print(X_test[i])\n",
        "        err_cnt = err_cnt+1\n",
        "print(\"errors:\", err_cnt)\n",
        "\n",
        "err_cnt = 0\n",
        "for i in range(0, len(y_test)):\n",
        "    if(y_test[i]=='p' and y_pred[i]=='n'):\n",
        "        print(X_test[i])\n",
        "        err_cnt = err_cnt+1\n",
        "print(\"errors:\", err_cnt)"
      ],
      "metadata": {
        "colab": {
          "base_uri": "https://localhost:8080/"
        },
        "id": "eFYIUHnfs656",
        "outputId": "0ada2196-021d-41b2-85ee-454b4b303b62"
      },
      "execution_count": null,
      "outputs": [
        {
          "output_type": "stream",
          "name": "stdout",
          "text": [
            "the staff at this restaurant is very unfriendly the waitress for our table is extremely rude we need to wait for one hour for our order to come the place is noisy and the food isnt that good\n",
            "Olive Oil Garden was very disappointing I expect good food and good service at least when I go out to eat The meal was cold when we got it and the waitor had no manners whatsoever Dont go to the Olive Oil Garden \n",
            "The service was way below average and we had to wait 10 minutes before we could be seated Then had to wait 20 minutes before the menu was shown to us Let me tell you that the food at Kitty Hoynes Irish Pub  Restaurant was terrible The vegies were under cooked and the lamb was over cooked the bread was dry and the beer was flat Need I say more\n",
            "errors: 3\n",
            "This place was one of the best restaurant I have been The price is little expensive but the food and the service is best around the area I went here with my family and we ordered 4 dishes They were all well cooked and their taste were nicely balanced Waiters came when we needed them without having to call for them I would definitely recommend it to everyone visiting this area \n",
            "I ate at this restaurant called Banana Leaf As I entered the restaurant I really liked the ambiance I ordered noodle soup and fried rice with spicy black bean curry The service was pretty fast and the food tasted amazing There was a lot flavor in the food which I truly enjoyed Two thumbs up for Banana Leaf and I would totally recommend this restaurant\n",
            "I went to this ultraluxurious restaurant in Downtown New York which is known for its exotic and expensive cuisine I had a glass of champagne along with very expensive Caviar I had a delicious Chicken Pasta cooked in white sauce This was followed by mouth melting chocolate brownie and vanilla ice cream The service standards were superlative and I felt special visiting this restaurant \n",
            "Ruby Tuesday is my favorite America Style Restaurant The salad is awesome And I like the baby pork ribs so much  So does the coconut shrimp\n",
            "Two days ago I went to the rooftop restaurant in NYC that served brunch it was one of the best brunch that I have ever had The view from the table was serene and I could see both the the Hudson River and the East River with outstanding views of Empire State Building the Chryslers tower Freedom tower and the Central park A great place with great food and a perplexing view\n",
            "errors: 5\n"
          ]
        }
      ]
    },
    {
      "cell_type": "code",
      "source": [
        "#Top 10 features\n",
        "\n",
        "feature_ranks = sorted(zip(svm_clf.coef_[0], gram12_count_vectorizer.get_feature_names_out()))\n",
        "\n",
        "##Top 10 features for negative words\n",
        "negative_10 = feature_ranks[:10]\n",
        "print(\"Negative words\")\n",
        "for i in range(0, len(negative_10)):\n",
        "    print(negative_10[i])\n",
        "print()\n",
        "\n",
        "##Top 10 features for positive words\n",
        "positive_10 = feature_ranks[-10:]\n",
        "print(\"Positive words\")\n",
        "for i in range(0, len(positive_10)):\n",
        "    print(positive_10[i])\n",
        "print()"
      ],
      "metadata": {
        "colab": {
          "base_uri": "https://localhost:8080/"
        },
        "id": "N6C6_MzXDwit",
        "outputId": "9d064f87-1292-423a-a118-e8fed911fc03"
      },
      "execution_count": null,
      "outputs": [
        {
          "output_type": "stream",
          "name": "stdout",
          "text": [
            "Negative words\n",
            "(-0.6414153792814327, 'went')\n",
            "(-0.6128947107351101, 'said')\n",
            "(-0.5309206948000039, 'service')\n",
            "(-0.49586478362878467, 'like')\n",
            "(-0.46268203813371184, 'dishes')\n",
            "(-0.43246587110820617, 'salad')\n",
            "(-0.4238428000989887, 'place')\n",
            "(-0.42034163722331586, 'asked')\n",
            "(-0.3585766327294618, 'long')\n",
            "(-0.3488523942304764, 'terrible')\n",
            "\n",
            "Positive words\n",
            "(0.36483586561583325, 'dont')\n",
            "(0.3745076161929085, 'amazing')\n",
            "(0.3925419507095628, 'high')\n",
            "(0.40133206980566344, 'friendly')\n",
            "(0.43659851103729985, 'waiters')\n",
            "(0.5486715594556089, 'nice')\n",
            "(0.6475649930785303, 'quality')\n",
            "(0.6671231446387473, 'fresh')\n",
            "(0.7633467961720526, 'best')\n",
            "(0.8813062884334484, 'need')\n",
            "\n"
          ]
        }
      ]
    },
    {
      "cell_type": "markdown",
      "source": [
        "#Unigram TF-IDF Vectorizer\n",
        "\n",
        "##MNB"
      ],
      "metadata": {
        "id": "rV9JRfRzMMqe"
      }
    },
    {
      "cell_type": "code",
      "source": [
        "X_train_vec = unigram_tfidf_vectorizer.fit_transform(X_train)\n",
        "X_test_vec = unigram_tfidf_vectorizer.transform(X_test)\n",
        "\n",
        "from sklearn.naive_bayes import MultinomialNB\n",
        "\n",
        "# initialize the MNB model\n",
        "nb_clf= MultinomialNB()\n",
        "\n",
        "# use the training data to train the MNB model\n",
        "nb_clf.fit(X_train_vec,y_train)\n",
        "\n",
        "print(\"Accuracy score on test data set:\", nb_clf.score(X_test_vec,y_test))\n",
        "\n",
        "# print confusion matrix (row: ground truth; col: prediction)\n",
        "\n",
        "from sklearn.metrics import confusion_matrix\n",
        "y_pred = nb_clf.fit(X_train_vec, y_train).predict(X_test_vec)\n",
        "cm=confusion_matrix(y_test, y_pred)\n",
        "print(cm)\n",
        "\n",
        "# print classification report\n",
        "\n",
        "from sklearn.metrics import precision_score\n",
        "from sklearn.metrics import recall_score\n",
        "print(precision_score(y_test, y_pred, average=None))\n",
        "print(recall_score(y_test, y_pred, average=None))\n",
        "\n",
        "from sklearn.metrics import classification_report\n",
        "target_names = ['n', 'p']\n",
        "print(classification_report(y_test, y_pred, target_names=target_names))"
      ],
      "metadata": {
        "colab": {
          "base_uri": "https://localhost:8080/"
        },
        "id": "BVevUKcPMLi8",
        "outputId": "f3246b28-b0bc-4d87-b623-e7a1259ee7a9"
      },
      "execution_count": null,
      "outputs": [
        {
          "output_type": "stream",
          "name": "stdout",
          "text": [
            "Accuracy score on test data set: 0.8378378378378378\n",
            "[[15  3]\n",
            " [ 3 16]]\n",
            "[0.83333333 0.84210526]\n",
            "[0.83333333 0.84210526]\n",
            "              precision    recall  f1-score   support\n",
            "\n",
            "           n       0.83      0.83      0.83        18\n",
            "           p       0.84      0.84      0.84        19\n",
            "\n",
            "    accuracy                           0.84        37\n",
            "   macro avg       0.84      0.84      0.84        37\n",
            "weighted avg       0.84      0.84      0.84        37\n",
            "\n"
          ]
        }
      ]
    },
    {
      "cell_type": "code",
      "source": [
        "# cross validation\n",
        "\n",
        "from sklearn.pipeline import Pipeline\n",
        "from sklearn.model_selection import cross_val_score\n",
        "nb_clf_pipe = Pipeline([('vect', TfidfVectorizer(encoding='latin-1', use_idf=True)),('nb', MultinomialNB())])\n",
        "scores = cross_val_score(nb_clf_pipe, X, y, cv=5)\n",
        "avg=sum(scores)/len(scores)\n",
        "print(avg)"
      ],
      "metadata": {
        "colab": {
          "base_uri": "https://localhost:8080/"
        },
        "id": "qar0wgHyMa2P",
        "outputId": "3eaba51d-455f-4b63-8664-77fa5515fcb6"
      },
      "execution_count": null,
      "outputs": [
        {
          "output_type": "stream",
          "name": "stdout",
          "text": [
            "0.8695906432748538\n"
          ]
        }
      ]
    },
    {
      "cell_type": "code",
      "source": [
        "#error analysis\n",
        "err_cnt = 0\n",
        "for i in range(0, len(y_test)):\n",
        "    if(y_test[i]=='n' and y_pred[i]=='p'):\n",
        "        print(X_test[i])\n",
        "        err_cnt = err_cnt+1\n",
        "print(\"errors:\", err_cnt)\n",
        "\n",
        "err_cnt = 0\n",
        "for i in range(0, len(y_test)):\n",
        "    if(y_test[i]=='p' and y_pred[i]=='n'):\n",
        "        print(X_test[i])\n",
        "        err_cnt = err_cnt+1\n",
        "print(\"errors:\", err_cnt)"
      ],
      "metadata": {
        "colab": {
          "base_uri": "https://localhost:8080/"
        },
        "id": "VPME-MBjsQkI",
        "outputId": "32a0a31d-8af8-47bc-9c0d-e47faba7d506"
      },
      "execution_count": null,
      "outputs": [
        {
          "output_type": "stream",
          "name": "stdout",
          "text": [
            "the staff at this restaurant is very unfriendly the waitress for our table is extremely rude we need to wait for one hour for our order to come the place is noisy and the food isnt that good\n",
            "This diner was not at all up to par Ive been to many diners and get eggs benedict sometimes There was nacho cheese on my eggs and a plateful of watery runny eggs And it smelled like smoke And there was no heat in the dead of winter Their prices are not ANYWHERE near what is reasonable Cool mom  pop place but terrible food smell and prices\n",
            "Olive Oil Garden was very disappointing I expect good food and good service at least when I go out to eat The meal was cold when we got it and the waitor had no manners whatsoever Dont go to the Olive Oil Garden \n",
            "errors: 3\n",
            "I went to this ultraluxurious restaurant in Downtown New York which is known for its exotic and expensive cuisine I had a glass of champagne along with very expensive Caviar I had a delicious Chicken Pasta cooked in white sauce This was followed by mouth melting chocolate brownie and vanilla ice cream The service standards were superlative and I felt special visiting this restaurant \n",
            "Ruby Tuesday is my favorite America Style Restaurant The salad is awesome And I like the baby pork ribs so much  So does the coconut shrimp\n",
            "\n",
            "errors: 3\n"
          ]
        }
      ]
    },
    {
      "cell_type": "code",
      "source": [
        "#based on error analysis considering \"0\" category as negative and \"1\" category as positive\n",
        "\n",
        "log_ratios = []\n",
        "features = unigram_tfidf_vectorizer.get_feature_names_out()\n",
        "negative_cond_prob = nb_clf.feature_log_prob_[0]\n",
        "positive_cond_prob = nb_clf.feature_log_prob_[1]\n",
        "\n",
        "for i in range(0, len(features)):\n",
        "  log_ratio = negative_cond_prob[i] - positive_cond_prob[i]\n",
        "  log_ratios.append(log_ratio)\n",
        "\n",
        "feature_ranks = sorted(zip(log_ratios, features))\n",
        "positive_10 = feature_ranks[:10]\n",
        "print(\"Positive words\")\n",
        "for i in range(0, len(positive_10)):\n",
        "    print(positive_10[i])\n",
        "print()\n",
        "\n",
        "negative_10 = feature_ranks[-10:]\n",
        "print(\"Negative words\")\n",
        "for i in range(0, len(negative_10)):\n",
        "    print(negative_10[i])\n",
        "print()"
      ],
      "metadata": {
        "colab": {
          "base_uri": "https://localhost:8080/"
        },
        "id": "2RGWT8uyL1de",
        "outputId": "8260b502-38ad-4055-cad6-34ebd68503b2"
      },
      "execution_count": null,
      "outputs": [
        {
          "output_type": "stream",
          "name": "stdout",
          "text": [
            "Positive words\n",
            "(-1.3534882757718734, 'amazing')\n",
            "(-1.2720874094463768, 'best')\n",
            "(-1.2304761017456043, 'fresh')\n",
            "(-1.0405658175602834, 'need')\n",
            "(-0.9238795757989893, 'nice')\n",
            "(-0.7772747053769047, 'prices')\n",
            "(-0.7577149973440553, 'friendly')\n",
            "(-0.6701667336927399, 'great')\n",
            "(-0.4700767621555584, 'definitely')\n",
            "(-0.45652134421311086, 'sauce')\n",
            "\n",
            "Negative words\n",
            "(0.6192376174420913, 'went')\n",
            "(0.6716702360737918, 'salad')\n",
            "(0.6919270608393173, 'wasnt')\n",
            "(0.7579303857540398, 'bad')\n",
            "(0.7773278774124339, 'came')\n",
            "(0.8783903450307302, 'minutes')\n",
            "(1.030980217409697, 'said')\n",
            "(1.0399151954913135, 'took')\n",
            "(1.0800998928856593, 'terrible')\n",
            "(1.1056261347945728, 'asked')\n",
            "\n"
          ]
        }
      ]
    },
    {
      "cell_type": "markdown",
      "source": [
        "##SVM"
      ],
      "metadata": {
        "id": "pmcmjytuMqCV"
      }
    },
    {
      "cell_type": "code",
      "source": [
        "from sklearn.svm import LinearSVC\n",
        "\n",
        "# initialize the LinearSVC model\n",
        "svm_clf = LinearSVC(C=1)\n",
        "\n",
        "# use the training data to train the model\n",
        "svm_clf.fit(X_train_vec,y_train)\n",
        "\n",
        "# test the classifier on the test data set, print accuracy score\n",
        "\n",
        "print(\"Accuracy score on test data set:\",svm_clf.score(X_test_vec,y_test))\n",
        "\n",
        "# print confusion matrix and classification report\n",
        "\n",
        "from sklearn.metrics import confusion_matrix\n",
        "y_pred = svm_clf.predict(X_test_vec)\n",
        "cm=confusion_matrix(y_test, y_pred)\n",
        "print(cm)\n",
        "print()\n",
        "\n",
        "from sklearn.metrics import classification_report\n",
        "target_names = ['n', 'p']\n",
        "print(classification_report(y_test, y_pred, target_names=target_names))"
      ],
      "metadata": {
        "colab": {
          "base_uri": "https://localhost:8080/"
        },
        "id": "r4E-5p9gMwod",
        "outputId": "3818b579-ef80-477d-ebc2-8167a1db79d3"
      },
      "execution_count": null,
      "outputs": [
        {
          "output_type": "stream",
          "name": "stdout",
          "text": [
            "Accuracy score on test data set: 0.8378378378378378\n",
            "[[15  3]\n",
            " [ 3 16]]\n",
            "\n",
            "              precision    recall  f1-score   support\n",
            "\n",
            "           n       0.83      0.83      0.83        18\n",
            "           p       0.84      0.84      0.84        19\n",
            "\n",
            "    accuracy                           0.84        37\n",
            "   macro avg       0.84      0.84      0.84        37\n",
            "weighted avg       0.84      0.84      0.84        37\n",
            "\n"
          ]
        }
      ]
    },
    {
      "cell_type": "code",
      "source": [
        "from sklearn.pipeline import Pipeline\n",
        "from sklearn.model_selection import cross_validate\n",
        "\n",
        "scoring = ['accuracy', 'f1_macro', 'f1_micro', 'precision_macro', 'recall_macro']\n",
        "svm_clf_pipe = Pipeline([('vect', TfidfVectorizer(encoding='latin-1', use_idf=True)),('svm', LinearSVC(C=1))])\n",
        "scores = cross_validate(svm_clf_pipe, X, y, cv=5, scoring=scoring, return_train_score=True)\n",
        "\n",
        "# retrieve scores from a metric\n",
        "def get_metric_scores (scores, metric, train_or_test, verbose=False):\n",
        "    metric_name = train_or_test + '_' + metric\n",
        "    print(metric_name) \n",
        "\n",
        "    metric_scores = scores[metric_name]\n",
        "    if (verbose == True):\n",
        "        print(metric_scores)\n",
        "    avg = sum(metric_scores) / len(metric_scores)\n",
        "    print('average')\n",
        "    avg_formatted = \"{:.3f}\".format(avg)\n",
        "    print(avg_formatted)\n",
        "\n",
        "#retrieve test accuracy scores\n",
        "print(get_metric_scores(scores, 'accuracy', 'test', verbose=True))"
      ],
      "metadata": {
        "colab": {
          "base_uri": "https://localhost:8080/"
        },
        "id": "L92BGdVGNAyP",
        "outputId": "6a3a4dde-1b26-46ee-f3e8-a38e2b36720b"
      },
      "execution_count": null,
      "outputs": [
        {
          "output_type": "stream",
          "name": "stdout",
          "text": [
            "test_accuracy\n",
            "[0.89473684 0.89473684 0.94444444 0.94444444 0.77777778]\n",
            "average\n",
            "0.891\n",
            "None\n"
          ]
        }
      ]
    },
    {
      "cell_type": "code",
      "source": [
        "#error analysis\n",
        "err_cnt = 0\n",
        "for i in range(0, len(y_test)):\n",
        "    if(y_test[i]=='n' and y_pred[i]=='p'):\n",
        "        print(X_test[i])\n",
        "        err_cnt = err_cnt+1\n",
        "print(\"errors:\", err_cnt)\n",
        "\n",
        "err_cnt = 0\n",
        "for i in range(0, len(y_test)):\n",
        "    if(y_test[i]=='p' and y_pred[i]=='n'):\n",
        "        print(X_test[i])\n",
        "        err_cnt = err_cnt+1\n",
        "print(\"errors:\", err_cnt)"
      ],
      "metadata": {
        "colab": {
          "base_uri": "https://localhost:8080/"
        },
        "id": "q3xGqBHes355",
        "outputId": "5016d64f-2afb-43c6-f9ba-147fb0d91349"
      },
      "execution_count": null,
      "outputs": [
        {
          "output_type": "stream",
          "name": "stdout",
          "text": [
            "the staff at this restaurant is very unfriendly the waitress for our table is extremely rude we need to wait for one hour for our order to come the place is noisy and the food isnt that good\n",
            "Olive Oil Garden was very disappointing I expect good food and good service at least when I go out to eat The meal was cold when we got it and the waitor had no manners whatsoever Dont go to the Olive Oil Garden \n",
            "The service was way below average and we had to wait 10 minutes before we could be seated Then had to wait 20 minutes before the menu was shown to us Let me tell you that the food at Kitty Hoynes Irish Pub  Restaurant was terrible The vegies were under cooked and the lamb was over cooked the bread was dry and the beer was flat Need I say more\n",
            "errors: 3\n",
            "I went to this ultraluxurious restaurant in Downtown New York which is known for its exotic and expensive cuisine I had a glass of champagne along with very expensive Caviar I had a delicious Chicken Pasta cooked in white sauce This was followed by mouth melting chocolate brownie and vanilla ice cream The service standards were superlative and I felt special visiting this restaurant \n",
            "Ruby Tuesday is my favorite America Style Restaurant The salad is awesome And I like the baby pork ribs so much  So does the coconut shrimp\n",
            "Two days ago I went to the rooftop restaurant in NYC that served brunch it was one of the best brunch that I have ever had The view from the table was serene and I could see both the the Hudson River and the East River with outstanding views of Empire State Building the Chryslers tower Freedom tower and the Central park A great place with great food and a perplexing view\n",
            "errors: 3\n"
          ]
        }
      ]
    },
    {
      "cell_type": "code",
      "source": [
        "#Top 10 features\n",
        "\n",
        "feature_ranks = sorted(zip(svm_clf.coef_[0], unigram_tfidf_vectorizer.get_feature_names_out()))\n",
        "\n",
        "##Top 10 features for negative words\n",
        "negative_10 = feature_ranks[:10]\n",
        "print(\"Negative words\")\n",
        "for i in range(0, len(negative_10)):\n",
        "    print(negative_10[i])\n",
        "print()\n",
        "\n",
        "##Top 10 features for positive words\n",
        "positive_10 = feature_ranks[-10:]\n",
        "print(\"Positive words\")\n",
        "for i in range(0, len(positive_10)):\n",
        "    print(positive_10[i])\n",
        "print()"
      ],
      "metadata": {
        "colab": {
          "base_uri": "https://localhost:8080/"
        },
        "id": "MQej8TPbDydr",
        "outputId": "60ba4a11-6af4-4c1f-bfc2-0fdaf5c662bd"
      },
      "execution_count": null,
      "outputs": [
        {
          "output_type": "stream",
          "name": "stdout",
          "text": [
            "Negative words\n",
            "(-0.9941388689518573, 'went')\n",
            "(-0.8460276357016443, 'said')\n",
            "(-0.7811260137950655, 'asked')\n",
            "(-0.7714609384417883, 'terrible')\n",
            "(-0.7600535358388077, 'place')\n",
            "(-0.7575635999838614, 'salad')\n",
            "(-0.7489866424561434, 'took')\n",
            "(-0.7181159444368663, 'bad')\n",
            "(-0.6961469841801705, 'dishes')\n",
            "(-0.6788066552718461, 'dish')\n",
            "\n",
            "Positive words\n",
            "(0.42570648143495454, 'prices')\n",
            "(0.5044421574140608, 'friendly')\n",
            "(0.548697206341155, 'dont')\n",
            "(0.6357305108908016, 'high')\n",
            "(0.6634149247099183, 'quality')\n",
            "(0.7775354738114069, 'nice')\n",
            "(0.9311286709221271, 'amazing')\n",
            "(1.1584332622101625, 'fresh')\n",
            "(1.227919458033131, 'need')\n",
            "(1.6409342389060588, 'best')\n",
            "\n"
          ]
        }
      ]
    },
    {
      "cell_type": "markdown",
      "source": [
        "#Authenticity Analysis\n"
      ],
      "metadata": {
        "id": "XQhy6s8YYuVc"
      }
    },
    {
      "cell_type": "code",
      "source": [
        "X = input['review'].values\n",
        "y = input['lie'].values\n",
        "\n",
        "from sklearn.model_selection import train_test_split\n",
        "X_train, X_test, y_train, y_test = train_test_split(X, y, test_size=0.4, random_state=0)"
      ],
      "metadata": {
        "id": "DfHqG78YYv6p"
      },
      "execution_count": null,
      "outputs": []
    },
    {
      "cell_type": "code",
      "source": [
        "import numpy as np\n",
        "\n",
        "unique, counts = np.unique(y_train, return_counts=True)\n",
        "print(np.asarray((unique, counts)))\n",
        "\n",
        "unique, counts = np.unique(y_test, return_counts=True)\n",
        "print(np.asarray((unique, counts)))"
      ],
      "metadata": {
        "colab": {
          "base_uri": "https://localhost:8080/"
        },
        "id": "K4tNbwvNck-R",
        "outputId": "578b8aa0-68cc-4e99-e2cb-7bfc21a86acd"
      },
      "execution_count": null,
      "outputs": [
        {
          "output_type": "stream",
          "name": "stdout",
          "text": [
            "[['f' 't']\n",
            " [29 26]]\n",
            "[['f' 't']\n",
            " [17 20]]\n"
          ]
        }
      ]
    },
    {
      "cell_type": "markdown",
      "source": [
        "#Unigram Boolean Vectorizer\n",
        "\n",
        "##MNB\n",
        "\n"
      ],
      "metadata": {
        "id": "ocbLd6mHNpSX"
      }
    },
    {
      "cell_type": "code",
      "source": [
        "X_train_vec = unigram_bool_vectorizer.fit_transform(X_train)\n",
        "X_test_vec = unigram_bool_vectorizer.transform(X_test)\n",
        "\n",
        "from sklearn.naive_bayes import MultinomialNB\n",
        "\n",
        "# initialize the MNB model\n",
        "nb_clf= MultinomialNB()\n",
        "\n",
        "# use the training data to train the MNB model\n",
        "nb_clf.fit(X_train_vec,y_train)\n",
        "\n",
        "print(\"Accuracy score on test data set:\", nb_clf.score(X_test_vec,y_test))\n",
        "\n",
        "# print confusion matrix (row: ground truth; col: prediction)\n",
        "\n",
        "from sklearn.metrics import confusion_matrix\n",
        "y_pred = nb_clf.fit(X_train_vec, y_train).predict(X_test_vec)\n",
        "cm=confusion_matrix(y_test, y_pred)\n",
        "print(cm)\n",
        "\n",
        "# print classification report\n",
        "\n",
        "from sklearn.metrics import precision_score\n",
        "from sklearn.metrics import recall_score\n",
        "print(precision_score(y_test, y_pred, average=None))\n",
        "print(recall_score(y_test, y_pred, average=None))\n",
        "\n",
        "from sklearn.metrics import classification_report\n",
        "target_names = ['f', 't']\n",
        "print(classification_report(y_test, y_pred, target_names=target_names))"
      ],
      "metadata": {
        "colab": {
          "base_uri": "https://localhost:8080/"
        },
        "id": "-cfUeX2JUTxQ",
        "outputId": "4fb0857c-068f-4e93-c11e-64c028f16b8a"
      },
      "execution_count": null,
      "outputs": [
        {
          "output_type": "stream",
          "name": "stdout",
          "text": [
            "Accuracy score on test data set: 0.5135135135135135\n",
            "[[ 6 11]\n",
            " [ 7 13]]\n",
            "[0.46153846 0.54166667]\n",
            "[0.35294118 0.65      ]\n",
            "              precision    recall  f1-score   support\n",
            "\n",
            "           f       0.46      0.35      0.40        17\n",
            "           t       0.54      0.65      0.59        20\n",
            "\n",
            "    accuracy                           0.51        37\n",
            "   macro avg       0.50      0.50      0.50        37\n",
            "weighted avg       0.50      0.51      0.50        37\n",
            "\n"
          ]
        }
      ]
    },
    {
      "cell_type": "code",
      "source": [
        "# cross validation\n",
        "\n",
        "from sklearn.pipeline import Pipeline\n",
        "from sklearn.model_selection import cross_val_score\n",
        "nb_clf_pipe = Pipeline([('vect', CountVectorizer(encoding='latin-1', binary=True)),('nb', MultinomialNB())])\n",
        "scores = cross_val_score(nb_clf_pipe, X, y, cv=5)\n",
        "avg=sum(scores)/len(scores)\n",
        "print(avg)"
      ],
      "metadata": {
        "colab": {
          "base_uri": "https://localhost:8080/"
        },
        "id": "Bkx9YylZVLqn",
        "outputId": "db3fa7da-4645-4ea8-898d-c69de5e69f52"
      },
      "execution_count": null,
      "outputs": [
        {
          "output_type": "stream",
          "name": "stdout",
          "text": [
            "0.5771929824561404\n"
          ]
        }
      ]
    },
    {
      "cell_type": "code",
      "source": [
        "#error analysis\n",
        "err_cnt = 0\n",
        "for i in range(0, len(y_test)):\n",
        "    if(y_test[i]=='f' and y_pred[i]=='t'):\n",
        "        print(X_test[i])\n",
        "        err_cnt = err_cnt+1\n",
        "print(\"errors:\", err_cnt)\n",
        "\n",
        "err_cnt = 0\n",
        "for i in range(0, len(y_test)):\n",
        "    if(y_test[i]=='t' and y_pred[i]=='f'):\n",
        "        print(X_test[i])\n",
        "        err_cnt = err_cnt+1\n",
        "print(\"errors:\", err_cnt)"
      ],
      "metadata": {
        "colab": {
          "base_uri": "https://localhost:8080/"
        },
        "id": "dIp8u7FEsS3P",
        "outputId": "4d350379-79d3-426a-b10a-2b8c3f98671e"
      },
      "execution_count": null,
      "outputs": [
        {
          "output_type": "stream",
          "name": "stdout",
          "text": [
            "After I went shopping with some of my friend we went to DODO restaurant for dinner I found worm in one of the dishes \n",
            "I recently ate at a restaurant called White Castle and it was a dine in I had to wait 20 minutes before the waiter came to my table to take my order even though it was not busy I had to wait another 30 minutes for my order to come I had ordered a veggie burger with fries and Iced tea The veggie patty was not properly cooked the lettuce had black patches and the tomatoes looked horrible Overall the burger was a disaster When I turned to the fries in the hopes that it would taste goodto my disappointment they were also not fried properly and had a raw taste To top it all when picked up my iced tea took take a sip I found a fly swimming in my iced tea Overall it was a really bad experience and I would not recommend White Castle to anybody \n",
            "I went there with two friends at 6pm Long queue was there But it didnt take us long to wait The waiter was nice but worked in a hurry We ordered Todays Special some drinks and two icecreams I had a steak a little bit too salty but acceptable My friends didnt like their lamb chop and cod filet that much It costed us almost 100 Not worth it Will not visit there any more\n",
            "I ate at this restaurant called Banana Leaf As I entered the restaurant I really liked the ambiance I ordered noodle soup and fried rice with spicy black bean curry The service was pretty fast and the food tasted amazing There was a lot flavor in the food which I truly enjoyed Two thumbs up for Banana Leaf and I would totally recommend this restaurant\n",
            "I went to the Chilis on Erie Blvd and had the worst meal of my life We arrived and waited 5 minutes for a hostess and then were seated by a waiter who was obviously in a terrible mood We order drinks and it took them 15 minutes to bring us both the wrong beers which were barely cold Then we order an appetizer and wait 25 minutes for cold southwest egg rolls at which point we just paid and left Dont go\n",
            "OMG This restaurant is horrible The receptionist did not greet us we just stood there and waited for five minutes The food came late and served not warm Me and my pet ordered a bowl of salad and a cheese pizza The salad was not fresh the crust of a pizza was so hard like plastics My dog didnt even eat that pizza I hate this place\n",
            "This restaurant ROCKS I mean the food is great and people are great Everything is great great just great I love it I like it \n",
            "I went to ABC restaurant two days ago and I hated the food and the service We were kept waiting for over an hour just to get seated and once we ordered our food came out cold I ordered the pasta and it was terrible  completely bland and very unappatizing I definitely would not recommend going there especially if youre in a hurry\n",
            "Olive Oil Garden was very disappointing I expect good food and good service at least when I go out to eat The meal was cold when we got it and the waitor had no manners whatsoever Dont go to the Olive Oil Garden \n",
            "The service was way below average and we had to wait 10 minutes before we could be seated Then had to wait 20 minutes before the menu was shown to us Let me tell you that the food at Kitty Hoynes Irish Pub  Restaurant was terrible The vegies were under cooked and the lamb was over cooked the bread was dry and the beer was flat Need I say more\n",
            "Two days ago I went to the rooftop restaurant in NYC that served brunch it was one of the best brunch that I have ever had The view from the table was serene and I could see both the the Hudson River and the East River with outstanding views of Empire State Building the Chryslers tower Freedom tower and the Central park A great place with great food and a perplexing view\n",
            "errors: 11\n",
            "This place used to be great I cant believe its current state Instead of the cool dimlylit lounge that I was used to I was in a cheap smelly bar The music has no soul the bartender is mean This place no longer exudes a welcoming spirit The crowd is awkward and old I want my old hangout back\n",
            "This diner was not at all up to par Ive been to many diners and get eggs benedict sometimes There was nacho cheese on my eggs and a plateful of watery runny eggs And it smelled like smoke And there was no heat in the dead of winter Their prices are not ANYWHERE near what is reasonable Cool mom  pop place but terrible food smell and prices\n",
            "Halos is home I have been here numerous times The staff knows my name Thats the feeling I keep coming back to The coffee is great any time of the day youll always get fresh coffee They have little munchies in case youre not looking to have a full meal A great place to have a quiet afternoon by yourself and catch up on some reading or catch up with an old friend over neverending conversations\n",
            "Pastablities is a locally owned restaurant in Syracuse The food is simple and homey and comforting Their famous bread is baked daily and the bakery is right next door The bread is soft and chewy and amazing with their homemade spicy tomato sauce The paste and cheese that I had was cream and cooked to perfection \n",
            "I have been to a Asian restaurant in New York city The menu is written by Chinese and English When I choose a famous chinses plate called Gongbao chicken I was surprised The taste of it like a Thai flavor which is cooked by curry \n",
            "When you walk into TYU you may not have the highest expectations The space is small dark and may even be a little gloomy but once you settle into the comfy chairs ad browse their menu  you know youre in for a treat Great food amazing prices and definite value for money\n",
            "\n",
            "errors: 7\n"
          ]
        }
      ]
    },
    {
      "cell_type": "code",
      "source": [
        "#based on error analysis considering \"0\" category as fake and \"1\" category as truth\n",
        "\n",
        "log_ratios = []\n",
        "features = unigram_bool_vectorizer.get_feature_names_out()\n",
        "fake_cond_prob = nb_clf.feature_log_prob_[0]\n",
        "true_cond_prob = nb_clf.feature_log_prob_[1]\n",
        "\n",
        "for i in range(0, len(features)):\n",
        "  log_ratio = fake_cond_prob[i] - true_cond_prob[i]\n",
        "  log_ratios.append(log_ratio)\n",
        "\n",
        "feature_ranks = sorted(zip(log_ratios, features))\n",
        "true_10 = feature_ranks[:10]\n",
        "print(\"True words\")\n",
        "for i in range(0, len(true_10)):\n",
        "    print(true_10[i])\n",
        "print()\n",
        "\n",
        "fake_10 = feature_ranks[-10:]\n",
        "print(\"Fake words\")\n",
        "for i in range(0, len(fake_10)):\n",
        "    print(fake_10[i])\n",
        "print()"
      ],
      "metadata": {
        "colab": {
          "base_uri": "https://localhost:8080/"
        },
        "id": "lpLZA5pKFG0E",
        "outputId": "7128899d-b3d5-4807-d161-17f992c6a0cd"
      },
      "execution_count": null,
      "outputs": [
        {
          "output_type": "stream",
          "name": "stdout",
          "text": [
            "True words\n",
            "(-0.7353667993468385, 'terrible')\n",
            "(-0.6945448048265832, 'time')\n",
            "(-0.6765262993239052, 'good')\n",
            "(-0.5122232480326288, 'came')\n",
            "(-0.5122232480326288, 'dish')\n",
            "(-0.5122232480326288, 'life')\n",
            "(-0.5122232480326288, 'ny')\n",
            "(-0.4758556038617541, 'restaurant')\n",
            "(-0.44768472689505767, 'bad')\n",
            "(-0.44768472689505767, 'friendly')\n",
            "\n",
            "Fake words\n",
            "(0.6917495562933071, 'high')\n",
            "(0.6917495562933071, 'prices')\n",
            "(0.6917495562933071, 'sauce')\n",
            "(0.6917495562933071, 'staff')\n",
            "(0.6917495562933071, 'waiters')\n",
            "(0.6917495562933071, 'wasnt')\n",
            "(0.6917495562933071, 'worth')\n",
            "(0.8740711130872612, 'definitely')\n",
            "(1.02822179291452, 'said')\n",
            "(1.5672182936472066, 'want')\n",
            "\n"
          ]
        }
      ]
    },
    {
      "cell_type": "markdown",
      "source": [
        "##SVM"
      ],
      "metadata": {
        "id": "d9bEZ9UuVVFz"
      }
    },
    {
      "cell_type": "code",
      "source": [
        "from sklearn.svm import LinearSVC\n",
        "\n",
        "# initialize the LinearSVC model\n",
        "svm_clf = LinearSVC(C=1)\n",
        "\n",
        "# use the training data to train the model\n",
        "svm_clf.fit(X_train_vec,y_train)\n",
        "\n",
        "# test the classifier on the test data set, print accuracy score\n",
        "\n",
        "print(\"Accuracy score on test data set:\",svm_clf.score(X_test_vec,y_test))\n",
        "\n",
        "# print confusion matrix and classification report\n",
        "\n",
        "from sklearn.metrics import confusion_matrix\n",
        "y_pred = svm_clf.predict(X_test_vec)\n",
        "cm=confusion_matrix(y_test, y_pred)\n",
        "print(cm)\n",
        "print()\n",
        "\n",
        "from sklearn.metrics import classification_report\n",
        "target_names = ['f', 't']\n",
        "print(classification_report(y_test, y_pred, target_names=target_names))"
      ],
      "metadata": {
        "colab": {
          "base_uri": "https://localhost:8080/"
        },
        "id": "VYpZwIJhVXPl",
        "outputId": "982be1be-08ad-4ea7-a5fa-1474f8c68db1"
      },
      "execution_count": null,
      "outputs": [
        {
          "output_type": "stream",
          "name": "stdout",
          "text": [
            "Accuracy score on test data set: 0.4594594594594595\n",
            "[[ 5 12]\n",
            " [ 8 12]]\n",
            "\n",
            "              precision    recall  f1-score   support\n",
            "\n",
            "           f       0.38      0.29      0.33        17\n",
            "           t       0.50      0.60      0.55        20\n",
            "\n",
            "    accuracy                           0.46        37\n",
            "   macro avg       0.44      0.45      0.44        37\n",
            "weighted avg       0.45      0.46      0.45        37\n",
            "\n"
          ]
        }
      ]
    },
    {
      "cell_type": "code",
      "source": [
        "from sklearn.pipeline import Pipeline\n",
        "from sklearn.model_selection import cross_validate\n",
        "\n",
        "scoring = ['accuracy', 'f1_macro', 'f1_micro', 'precision_macro', 'recall_macro']\n",
        "svm_clf_pipe = Pipeline([('vect', CountVectorizer(encoding='latin-1', binary=True)),('svm', LinearSVC(C=1))])\n",
        "scores = cross_validate(svm_clf_pipe, X, y, cv=5, scoring=scoring, return_train_score=True)\n",
        "\n",
        "# retrieve scores from a metric\n",
        "def get_metric_scores (scores, metric, train_or_test, verbose=False):\n",
        "    metric_name = train_or_test + '_' + metric\n",
        "    print(metric_name) \n",
        "\n",
        "    metric_scores = scores[metric_name]\n",
        "    if (verbose == True):\n",
        "        print(metric_scores)\n",
        "    avg = sum(metric_scores) / len(metric_scores)\n",
        "    print('average')\n",
        "    avg_formatted = \"{:.3f}\".format(avg)\n",
        "    print(avg_formatted)\n",
        "\n",
        "#retrieve test accuracy scores\n",
        "print(get_metric_scores(scores, 'accuracy', 'test', verbose=True))"
      ],
      "metadata": {
        "colab": {
          "base_uri": "https://localhost:8080/"
        },
        "id": "zAQWaMclVsw_",
        "outputId": "3040b6d1-1a33-415d-a9e6-9d4874ffbf9f"
      },
      "execution_count": null,
      "outputs": [
        {
          "output_type": "stream",
          "name": "stdout",
          "text": [
            "test_accuracy\n",
            "[0.57894737 0.47368421 0.38888889 0.38888889 0.72222222]\n",
            "average\n",
            "0.511\n",
            "None\n"
          ]
        }
      ]
    },
    {
      "cell_type": "code",
      "source": [
        "#error analysis\n",
        "err_cnt = 0\n",
        "for i in range(0, len(y_test)):\n",
        "    if(y_test[i]=='f' and y_pred[i]=='t'):\n",
        "        print(X_test[i])\n",
        "        err_cnt = err_cnt+1\n",
        "print(\"errors:\", err_cnt)\n",
        "\n",
        "err_cnt = 0\n",
        "for i in range(0, len(y_test)):\n",
        "    if(y_test[i]=='t' and y_pred[i]=='f'):\n",
        "        print(X_test[i])\n",
        "        err_cnt = err_cnt+1\n",
        "print(\"errors:\", err_cnt)"
      ],
      "metadata": {
        "colab": {
          "base_uri": "https://localhost:8080/"
        },
        "id": "2tpyMQC6sxvQ",
        "outputId": "66e2ff6b-f8db-4fd1-bd89-a015f0c4e044"
      },
      "execution_count": null,
      "outputs": [
        {
          "output_type": "stream",
          "name": "stdout",
          "text": [
            "After I went shopping with some of my friend we went to DODO restaurant for dinner I found worm in one of the dishes \n",
            "I recently ate at a restaurant called White Castle and it was a dine in I had to wait 20 minutes before the waiter came to my table to take my order even though it was not busy I had to wait another 30 minutes for my order to come I had ordered a veggie burger with fries and Iced tea The veggie patty was not properly cooked the lettuce had black patches and the tomatoes looked horrible Overall the burger was a disaster When I turned to the fries in the hopes that it would taste goodto my disappointment they were also not fried properly and had a raw taste To top it all when picked up my iced tea took take a sip I found a fly swimming in my iced tea Overall it was a really bad experience and I would not recommend White Castle to anybody \n",
            "I ate at this restaurant called Banana Leaf As I entered the restaurant I really liked the ambiance I ordered noodle soup and fried rice with spicy black bean curry The service was pretty fast and the food tasted amazing There was a lot flavor in the food which I truly enjoyed Two thumbs up for Banana Leaf and I would totally recommend this restaurant\n",
            "I went to the Chilis on Erie Blvd and had the worst meal of my life We arrived and waited 5 minutes for a hostess and then were seated by a waiter who was obviously in a terrible mood We order drinks and it took them 15 minutes to bring us both the wrong beers which were barely cold Then we order an appetizer and wait 25 minutes for cold southwest egg rolls at which point we just paid and left Dont go\n",
            "OMG This restaurant is horrible The receptionist did not greet us we just stood there and waited for five minutes The food came late and served not warm Me and my pet ordered a bowl of salad and a cheese pizza The salad was not fresh the crust of a pizza was so hard like plastics My dog didnt even eat that pizza I hate this place\n",
            "I went to this ultraluxurious restaurant in Downtown New York which is known for its exotic and expensive cuisine I had a glass of champagne along with very expensive Caviar I had a delicious Chicken Pasta cooked in white sauce This was followed by mouth melting chocolate brownie and vanilla ice cream The service standards were superlative and I felt special visiting this restaurant \n",
            "This restaurant ROCKS I mean the food is great and people are great Everything is great great just great I love it I like it \n",
            "I went to ABC restaurant two days ago and I hated the food and the service We were kept waiting for over an hour just to get seated and once we ordered our food came out cold I ordered the pasta and it was terrible  completely bland and very unappatizing I definitely would not recommend going there especially if youre in a hurry\n",
            "Cacata is the best place for Chinese food in the city I attended a birthday celebration here once and expected some kind of oriental version of the birthday cake They didnt disappoint It was some kind of pudding They are edgy and the food is great\n",
            "Olive Oil Garden was very disappointing I expect good food and good service at least when I go out to eat The meal was cold when we got it and the waitor had no manners whatsoever Dont go to the Olive Oil Garden \n",
            "The service was way below average and we had to wait 10 minutes before we could be seated Then had to wait 20 minutes before the menu was shown to us Let me tell you that the food at Kitty Hoynes Irish Pub  Restaurant was terrible The vegies were under cooked and the lamb was over cooked the bread was dry and the beer was flat Need I say more\n",
            "I went to Joeys and had the best lasagna on the planet  absolutely out of this world They had ice cold beer and hot food within 15 minutes that was delicious a friendly staff good prices and an extensive beer list Great place go ASAP\n",
            "errors: 12\n",
            "This place used to be great I cant believe its current state Instead of the cool dimlylit lounge that I was used to I was in a cheap smelly bar The music has no soul the bartender is mean This place no longer exudes a welcoming spirit The crowd is awkward and old I want my old hangout back\n",
            "The best restaurant I have gone to is when I went to AppleBee with my friends the service there is so nice Food is delicious I liked the steak very much The environment is very nice and clean which makes me want to go there for more times Also the feeling when talking with my friends at such a good restaurant after skiing is wonderful I want to go there again\n",
            "The worst restaurant that I have ever eaten in is undoubtedly this place called Kneed and feed I ordered a veggie sandwich and a red pepper soup When the waitress placed my order on the table it looked very promising but when I took a bite of my sandwich which was also a task as the bread was too hard to bite into the veggie burger had no flavor Also the red pepper soup was very bland and I had to add a lot of salt and pepper to give it some flavor Even though I was starving I was unable to finish my order \n",
            "Halos is home I have been here numerous times The staff knows my name Thats the feeling I keep coming back to The coffee is great any time of the day youll always get fresh coffee They have little munchies in case youre not looking to have a full meal A great place to have a quiet afternoon by yourself and catch up on some reading or catch up with an old friend over neverending conversations\n",
            "I have been to a Asian restaurant in New York city The menu is written by Chinese and English When I choose a famous chinses plate called Gongbao chicken I was surprised The taste of it like a Thai flavor which is cooked by curry \n",
            "When you walk into TYU you may not have the highest expectations The space is small dark and may even be a little gloomy but once you settle into the comfy chairs ad browse their menu  you know youre in for a treat Great food amazing prices and definite value for money\n",
            "A big piano is in the middle of the lobby and music is from is The light is so soft that makes me feel comfortable Seafood which is my favorite is so tasty that I even cannot feel that I have already full Waitress is always smile to us and gently ask what we need\n",
            "Ruby Tuesday is my favorite America Style Restaurant The salad is awesome And I like the baby pork ribs so much  So does the coconut shrimp\n",
            "errors: 8\n"
          ]
        }
      ]
    },
    {
      "cell_type": "code",
      "source": [
        "#Top 10 features\n",
        "\n",
        "feature_ranks = sorted(zip(svm_clf.coef_[0], unigram_bool_vectorizer.get_feature_names_out()))\n",
        "\n",
        "##Top 10 features for fake words\n",
        "fake_10 = feature_ranks[-10:]\n",
        "print(\"Fake words\")\n",
        "for i in range(0, len(fake_10)):\n",
        "    print(fake_10[i])\n",
        "print()\n",
        "\n",
        "##Top 10 features for true words\n",
        "true_10 = feature_ranks[:10]\n",
        "print(\"True words\")\n",
        "for i in range(0, len(true_10)):\n",
        "    print(true_10[i])\n",
        "print()"
      ],
      "metadata": {
        "colab": {
          "base_uri": "https://localhost:8080/"
        },
        "id": "9hYesNKrD1J_",
        "outputId": "ba1cb7b0-c465-411d-f735-5597a41c3511"
      },
      "execution_count": null,
      "outputs": [
        {
          "output_type": "stream",
          "name": "stdout",
          "text": [
            "Fake words\n",
            "(0.497985105991149, 'wait')\n",
            "(0.5506437386440068, 'time')\n",
            "(0.5718216532921692, 'good')\n",
            "(0.5776009651554882, 'dinner')\n",
            "(0.6068998513397714, 'ny')\n",
            "(0.6721278241520858, 'food')\n",
            "(0.7110268628762259, 'bad')\n",
            "(0.7277222310931813, 'came')\n",
            "(0.8202677365525408, 'friendly')\n",
            "(1.0896627804944337, 'overall')\n",
            "\n",
            "True words\n",
            "(-1.6943097014357344, 'want')\n",
            "(-1.2757043013017149, 'said')\n",
            "(-1.0561241921024938, 'definitely')\n",
            "(-1.0249021749470348, 'high')\n",
            "(-0.7280920187859549, 'prices')\n",
            "(-0.7002115194776946, 'waiters')\n",
            "(-0.6843507775256299, 'took')\n",
            "(-0.6402214212541258, 'experience')\n",
            "(-0.6372558879520928, 'worth')\n",
            "(-0.6355579359052305, 'dining')\n",
            "\n"
          ]
        }
      ]
    },
    {
      "cell_type": "markdown",
      "source": [
        "#Unigram Term Frequency Vectorizer\n",
        "##MNB"
      ],
      "metadata": {
        "id": "ZSwskad9Ul0R"
      }
    },
    {
      "cell_type": "code",
      "source": [
        "X_train_vec = unigram_count_vectorizer.fit_transform(X_train)\n",
        "X_test_vec = unigram_count_vectorizer.transform(X_test)\n",
        "\n",
        "from sklearn.naive_bayes import MultinomialNB\n",
        "\n",
        "# initialize the MNB model\n",
        "nb_clf= MultinomialNB()\n",
        "\n",
        "# use the training data to train the MNB model\n",
        "nb_clf.fit(X_train_vec,y_train)\n",
        "\n",
        "print(\"Accuracy score on test data set:\", nb_clf.score(X_test_vec,y_test))\n",
        "\n",
        "# print confusion matrix (row: ground truth; col: prediction)\n",
        "\n",
        "from sklearn.metrics import confusion_matrix\n",
        "y_pred = nb_clf.fit(X_train_vec, y_train).predict(X_test_vec)\n",
        "cm=confusion_matrix(y_test, y_pred)\n",
        "print(cm)\n",
        "\n",
        "# print classification report\n",
        "\n",
        "from sklearn.metrics import precision_score\n",
        "from sklearn.metrics import recall_score\n",
        "print(precision_score(y_test, y_pred, average=None))\n",
        "print(recall_score(y_test, y_pred, average=None))\n",
        "\n",
        "from sklearn.metrics import classification_report\n",
        "target_names = ['f', 't']\n",
        "print(classification_report(y_test, y_pred, target_names=target_names))"
      ],
      "metadata": {
        "colab": {
          "base_uri": "https://localhost:8080/"
        },
        "id": "lYQet2uYUnUX",
        "outputId": "bd8b701a-816a-4d38-cfdf-7755e2bb8da3"
      },
      "execution_count": null,
      "outputs": [
        {
          "output_type": "stream",
          "name": "stdout",
          "text": [
            "Accuracy score on test data set: 0.4594594594594595\n",
            "[[ 8  9]\n",
            " [11  9]]\n",
            "[0.42105263 0.5       ]\n",
            "[0.47058824 0.45      ]\n",
            "              precision    recall  f1-score   support\n",
            "\n",
            "           f       0.42      0.47      0.44        17\n",
            "           t       0.50      0.45      0.47        20\n",
            "\n",
            "    accuracy                           0.46        37\n",
            "   macro avg       0.46      0.46      0.46        37\n",
            "weighted avg       0.46      0.46      0.46        37\n",
            "\n"
          ]
        }
      ]
    },
    {
      "cell_type": "code",
      "source": [
        "# cross validation\n",
        "\n",
        "from sklearn.pipeline import Pipeline\n",
        "from sklearn.model_selection import cross_val_score\n",
        "nb_clf_pipe = Pipeline([('vect', CountVectorizer(encoding='latin-1', binary=False)),('nb', MultinomialNB())])\n",
        "scores = cross_val_score(nb_clf_pipe, X, y, cv=5)\n",
        "avg=sum(scores)/len(scores)\n",
        "print(avg)"
      ],
      "metadata": {
        "colab": {
          "base_uri": "https://localhost:8080/"
        },
        "id": "E33sIzI3VNve",
        "outputId": "90760833-7435-4c36-a827-baa41e1f5c43"
      },
      "execution_count": null,
      "outputs": [
        {
          "output_type": "stream",
          "name": "stdout",
          "text": [
            "0.5649122807017544\n"
          ]
        }
      ]
    },
    {
      "cell_type": "code",
      "source": [
        "#error analysis\n",
        "err_cnt = 0\n",
        "for i in range(0, len(y_test)):\n",
        "    if(y_test[i]=='f' and y_pred[i]=='t'):\n",
        "        print(X_test[i])\n",
        "        err_cnt = err_cnt+1\n",
        "print(\"errors:\", err_cnt)\n",
        "\n",
        "err_cnt = 0\n",
        "for i in range(0, len(y_test)):\n",
        "    if(y_test[i]=='t' and y_pred[i]=='f'):\n",
        "        print(X_test[i])\n",
        "        err_cnt = err_cnt+1\n",
        "print(\"errors:\", err_cnt)"
      ],
      "metadata": {
        "colab": {
          "base_uri": "https://localhost:8080/"
        },
        "id": "rYqhyMJisYn0",
        "outputId": "e280710a-c8ef-4337-e553-fb990d71f636"
      },
      "execution_count": null,
      "outputs": [
        {
          "output_type": "stream",
          "name": "stdout",
          "text": [
            "After I went shopping with some of my friend we went to DODO restaurant for dinner I found worm in one of the dishes \n",
            "I ate at this restaurant called Banana Leaf As I entered the restaurant I really liked the ambiance I ordered noodle soup and fried rice with spicy black bean curry The service was pretty fast and the food tasted amazing There was a lot flavor in the food which I truly enjoyed Two thumbs up for Banana Leaf and I would totally recommend this restaurant\n",
            "OMG This restaurant is horrible The receptionist did not greet us we just stood there and waited for five minutes The food came late and served not warm Me and my pet ordered a bowl of salad and a cheese pizza The salad was not fresh the crust of a pizza was so hard like plastics My dog didnt even eat that pizza I hate this place\n",
            "I went to this ultraluxurious restaurant in Downtown New York which is known for its exotic and expensive cuisine I had a glass of champagne along with very expensive Caviar I had a delicious Chicken Pasta cooked in white sauce This was followed by mouth melting chocolate brownie and vanilla ice cream The service standards were superlative and I felt special visiting this restaurant \n",
            "This restaurant ROCKS I mean the food is great and people are great Everything is great great just great I love it I like it \n",
            "I went to ABC restaurant two days ago and I hated the food and the service We were kept waiting for over an hour just to get seated and once we ordered our food came out cold I ordered the pasta and it was terrible  completely bland and very unappatizing I definitely would not recommend going there especially if youre in a hurry\n",
            "Cacata is the best place for Chinese food in the city I attended a birthday celebration here once and expected some kind of oriental version of the birthday cake They didnt disappoint It was some kind of pudding They are edgy and the food is great\n",
            "Olive Oil Garden was very disappointing I expect good food and good service at least when I go out to eat The meal was cold when we got it and the waitor had no manners whatsoever Dont go to the Olive Oil Garden \n",
            "Two days ago I went to the rooftop restaurant in NYC that served brunch it was one of the best brunch that I have ever had The view from the table was serene and I could see both the the Hudson River and the East River with outstanding views of Empire State Building the Chryslers tower Freedom tower and the Central park A great place with great food and a perplexing view\n",
            "errors: 9\n",
            "This place used to be great I cant believe its current state Instead of the cool dimlylit lounge that I was used to I was in a cheap smelly bar The music has no soul the bartender is mean This place no longer exudes a welcoming spirit The crowd is awkward and old I want my old hangout back\n",
            "the staff at this restaurant is very unfriendly the waitress for our table is extremely rude we need to wait for one hour for our order to come the place is noisy and the food isnt that good\n",
            "The best restaurant I have gone to is when I went to AppleBee with my friends the service there is so nice Food is delicious I liked the steak very much The environment is very nice and clean which makes me want to go there for more times Also the feeling when talking with my friends at such a good restaurant after skiing is wonderful I want to go there again\n",
            "The worst restaurant that I have ever eaten in is undoubtedly this place called Kneed and feed I ordered a veggie sandwich and a red pepper soup When the waitress placed my order on the table it looked very promising but when I took a bite of my sandwich which was also a task as the bread was too hard to bite into the veggie burger had no flavor Also the red pepper soup was very bland and I had to add a lot of salt and pepper to give it some flavor Even though I was starving I was unable to finish my order \n",
            "This diner was not at all up to par Ive been to many diners and get eggs benedict sometimes There was nacho cheese on my eggs and a plateful of watery runny eggs And it smelled like smoke And there was no heat in the dead of winter Their prices are not ANYWHERE near what is reasonable Cool mom  pop place but terrible food smell and prices\n",
            "Pastablities is a locally owned restaurant in Syracuse The food is simple and homey and comforting Their famous bread is baked daily and the bakery is right next door The bread is soft and chewy and amazing with their homemade spicy tomato sauce The paste and cheese that I had was cream and cooked to perfection \n",
            "After reading the reviews as well listening to all my friends rave about Dinosaur BarBQue I decided to try it out This is definitely the kind of place for you if you are into crowded noisy and peoplewalkingallover type of person Unfortunately I am not that type of person I found the place dirty noisy too crowded and the smell of the people over powered the smell of the food There were also loads of beer floating around and as the minutes flowed by people just became rowdier Although the food was good I would not rate it as you have to try it before you die kinda food Sorry Dinosaur BarBQue you are just not my kinda dig\n",
            "I have been to a Asian restaurant in New York city The menu is written by Chinese and English When I choose a famous chinses plate called Gongbao chicken I was surprised The taste of it like a Thai flavor which is cooked by curry \n",
            "This cafe is located on the 2nd street from the bank They serve fresh and good quality coffee and they grind beans every morning So if you needs a cup of coffee in the morning this place is where you are looking for The clerks are nice and passionate on what they are doing \n",
            "When you walk into TYU you may not have the highest expectations The space is small dark and may even be a little gloomy but once you settle into the comfy chairs ad browse their menu  you know youre in for a treat Great food amazing prices and definite value for money\n",
            "\n",
            "errors: 11\n"
          ]
        }
      ]
    },
    {
      "cell_type": "code",
      "source": [
        "#based on error analysis considering \"0\" category as fake and \"1\" category as truth\n",
        "\n",
        "log_ratios = []\n",
        "features = unigram_count_vectorizer.get_feature_names_out()\n",
        "fake_cond_prob = nb_clf.feature_log_prob_[0]\n",
        "true_cond_prob = nb_clf.feature_log_prob_[1]\n",
        "\n",
        "for i in range(0, len(features)):\n",
        "  log_ratio = fake_cond_prob[i] - true_cond_prob[i]\n",
        "  log_ratios.append(log_ratio)\n",
        "\n",
        "feature_ranks = sorted(zip(log_ratios, features))\n",
        "true_10 = feature_ranks[:10]\n",
        "print(\"True words\")\n",
        "for i in range(0, len(true_10)):\n",
        "    print(true_10[i])\n",
        "print()\n",
        "\n",
        "fake_10 = feature_ranks[-10:]\n",
        "print(\"Fake words\")\n",
        "for i in range(0, len(fake_10)):\n",
        "    print(fake_10[i])\n",
        "print()"
      ],
      "metadata": {
        "colab": {
          "base_uri": "https://localhost:8080/"
        },
        "id": "JeM3UnnHIYB9",
        "outputId": "0608682b-a140-4499-eb31-d98cd3f5992c"
      },
      "execution_count": null,
      "outputs": [
        {
          "output_type": "stream",
          "name": "stdout",
          "text": [
            "True words\n",
            "(-0.8893412391846018, 'life')\n",
            "(-0.7839807235267755, 'time')\n",
            "(-0.6817018744063574, 'good')\n",
            "(-0.601659166732821, 'bad')\n",
            "(-0.601659166732821, 'going')\n",
            "(-0.5528690025633889, 'ordered')\n",
            "(-0.5326662952458694, 'waitress')\n",
            "(-0.4838761310764377, 'salad')\n",
            "(-0.48387613107643723, 'ny')\n",
            "(-0.48387613107643723, 'restaurant')\n",
            "\n",
            "Fake words\n",
            "(0.651103801762547, 'sauce')\n",
            "(0.651103801762547, 'wasnt')\n",
            "(0.7200966732494987, 'high')\n",
            "(0.7200966732494987, 'staff')\n",
            "(0.7200966732494987, 'waiters')\n",
            "(0.7200966732494987, 'worth')\n",
            "(0.9024182300434527, 'dine')\n",
            "(1.0565689098707116, 'definitely')\n",
            "(1.0565689098707116, 'said')\n",
            "(1.8832474830551793, 'want')\n",
            "\n"
          ]
        }
      ]
    },
    {
      "cell_type": "markdown",
      "source": [
        "##SVM"
      ],
      "metadata": {
        "id": "uUKKrCGiVdLE"
      }
    },
    {
      "cell_type": "code",
      "source": [
        "from sklearn.svm import LinearSVC\n",
        "\n",
        "# initialize the LinearSVC model\n",
        "svm_clf = LinearSVC(C=1)\n",
        "\n",
        "# use the training data to train the model\n",
        "svm_clf.fit(X_train_vec,y_train)\n",
        "\n",
        "# test the classifier on the test data set, print accuracy score\n",
        "\n",
        "print(\"Accuracy score on test data set:\",svm_clf.score(X_test_vec,y_test))\n",
        "\n",
        "# print confusion matrix and classification report\n",
        "\n",
        "from sklearn.metrics import confusion_matrix\n",
        "y_pred = svm_clf.predict(X_test_vec)\n",
        "cm=confusion_matrix(y_test, y_pred)\n",
        "print(cm)\n",
        "print()\n",
        "\n",
        "from sklearn.metrics import classification_report\n",
        "target_names = ['f', 't']\n",
        "print(classification_report(y_test, y_pred, target_names=target_names))"
      ],
      "metadata": {
        "colab": {
          "base_uri": "https://localhost:8080/"
        },
        "id": "k4IC3Qf5Ve5c",
        "outputId": "64429551-293f-4848-9343-c9978ab5b796"
      },
      "execution_count": null,
      "outputs": [
        {
          "output_type": "stream",
          "name": "stdout",
          "text": [
            "Accuracy score on test data set: 0.4594594594594595\n",
            "[[ 4 13]\n",
            " [ 7 13]]\n",
            "\n",
            "              precision    recall  f1-score   support\n",
            "\n",
            "           f       0.36      0.24      0.29        17\n",
            "           t       0.50      0.65      0.57        20\n",
            "\n",
            "    accuracy                           0.46        37\n",
            "   macro avg       0.43      0.44      0.43        37\n",
            "weighted avg       0.44      0.46      0.44        37\n",
            "\n"
          ]
        }
      ]
    },
    {
      "cell_type": "code",
      "source": [
        "from sklearn.pipeline import Pipeline\n",
        "from sklearn.model_selection import cross_validate\n",
        "\n",
        "scoring = ['accuracy', 'f1_macro', 'f1_micro', 'precision_macro', 'recall_macro']\n",
        "svm_clf_pipe = Pipeline([('vect', CountVectorizer(encoding='latin-1', binary=False)),('svm', LinearSVC(C=1))])\n",
        "scores = cross_validate(svm_clf_pipe, X, y, cv=5, scoring=scoring, return_train_score=True)\n",
        "\n",
        "# retrieve scores from a metric\n",
        "def get_metric_scores (scores, metric, train_or_test, verbose=False):\n",
        "    metric_name = train_or_test + '_' + metric\n",
        "    print(metric_name) \n",
        "\n",
        "    metric_scores = scores[metric_name]\n",
        "    if (verbose == True):\n",
        "        print(metric_scores)\n",
        "    avg = sum(metric_scores) / len(metric_scores)\n",
        "    print('average')\n",
        "    avg_formatted = \"{:.3f}\".format(avg)\n",
        "    print(avg_formatted)\n",
        "\n",
        "#retrieve test accuracy scores\n",
        "print(get_metric_scores(scores, 'accuracy', 'test', verbose=True))"
      ],
      "metadata": {
        "colab": {
          "base_uri": "https://localhost:8080/"
        },
        "id": "6jzw1dcxVufB",
        "outputId": "67b31da4-c0a2-4bea-d84b-2857b612e580"
      },
      "execution_count": null,
      "outputs": [
        {
          "output_type": "stream",
          "name": "stdout",
          "text": [
            "test_accuracy\n",
            "[0.63157895 0.52631579 0.44444444 0.5        0.5       ]\n",
            "average\n",
            "0.520\n",
            "None\n"
          ]
        }
      ]
    },
    {
      "cell_type": "code",
      "source": [
        "#error analysis\n",
        "err_cnt = 0\n",
        "for i in range(0, len(y_test)):\n",
        "    if(y_test[i]=='f' and y_pred[i]=='t'):\n",
        "        print(X_test[i])\n",
        "        err_cnt = err_cnt+1\n",
        "print(\"errors:\", err_cnt)\n",
        "\n",
        "err_cnt = 0\n",
        "for i in range(0, len(y_test)):\n",
        "    if(y_test[i]=='t' and y_pred[i]=='f'):\n",
        "        print(X_test[i])\n",
        "        err_cnt = err_cnt+1\n",
        "print(\"errors:\", err_cnt)"
      ],
      "metadata": {
        "colab": {
          "base_uri": "https://localhost:8080/"
        },
        "id": "3KtA4kx8svod",
        "outputId": "76c63845-2cdd-4f1e-e467-a690be027fad"
      },
      "execution_count": null,
      "outputs": [
        {
          "output_type": "stream",
          "name": "stdout",
          "text": [
            "After I went shopping with some of my friend we went to DODO restaurant for dinner I found worm in one of the dishes \n",
            "I recently ate at a restaurant called White Castle and it was a dine in I had to wait 20 minutes before the waiter came to my table to take my order even though it was not busy I had to wait another 30 minutes for my order to come I had ordered a veggie burger with fries and Iced tea The veggie patty was not properly cooked the lettuce had black patches and the tomatoes looked horrible Overall the burger was a disaster When I turned to the fries in the hopes that it would taste goodto my disappointment they were also not fried properly and had a raw taste To top it all when picked up my iced tea took take a sip I found a fly swimming in my iced tea Overall it was a really bad experience and I would not recommend White Castle to anybody \n",
            "I ate at this restaurant called Banana Leaf As I entered the restaurant I really liked the ambiance I ordered noodle soup and fried rice with spicy black bean curry The service was pretty fast and the food tasted amazing There was a lot flavor in the food which I truly enjoyed Two thumbs up for Banana Leaf and I would totally recommend this restaurant\n",
            "I went to the Chilis on Erie Blvd and had the worst meal of my life We arrived and waited 5 minutes for a hostess and then were seated by a waiter who was obviously in a terrible mood We order drinks and it took them 15 minutes to bring us both the wrong beers which were barely cold Then we order an appetizer and wait 25 minutes for cold southwest egg rolls at which point we just paid and left Dont go\n",
            "OMG This restaurant is horrible The receptionist did not greet us we just stood there and waited for five minutes The food came late and served not warm Me and my pet ordered a bowl of salad and a cheese pizza The salad was not fresh the crust of a pizza was so hard like plastics My dog didnt even eat that pizza I hate this place\n",
            "I went to this ultraluxurious restaurant in Downtown New York which is known for its exotic and expensive cuisine I had a glass of champagne along with very expensive Caviar I had a delicious Chicken Pasta cooked in white sauce This was followed by mouth melting chocolate brownie and vanilla ice cream The service standards were superlative and I felt special visiting this restaurant \n",
            "This restaurant ROCKS I mean the food is great and people are great Everything is great great just great I love it I like it \n",
            "I went to ABC restaurant two days ago and I hated the food and the service We were kept waiting for over an hour just to get seated and once we ordered our food came out cold I ordered the pasta and it was terrible  completely bland and very unappatizing I definitely would not recommend going there especially if youre in a hurry\n",
            "Cacata is the best place for Chinese food in the city I attended a birthday celebration here once and expected some kind of oriental version of the birthday cake They didnt disappoint It was some kind of pudding They are edgy and the food is great\n",
            "Olive Oil Garden was very disappointing I expect good food and good service at least when I go out to eat The meal was cold when we got it and the waitor had no manners whatsoever Dont go to the Olive Oil Garden \n",
            "The service was way below average and we had to wait 10 minutes before we could be seated Then had to wait 20 minutes before the menu was shown to us Let me tell you that the food at Kitty Hoynes Irish Pub  Restaurant was terrible The vegies were under cooked and the lamb was over cooked the bread was dry and the beer was flat Need I say more\n",
            "Two days ago I went to the rooftop restaurant in NYC that served brunch it was one of the best brunch that I have ever had The view from the table was serene and I could see both the the Hudson River and the East River with outstanding views of Empire State Building the Chryslers tower Freedom tower and the Central park A great place with great food and a perplexing view\n",
            "I went to Joeys and had the best lasagna on the planet  absolutely out of this world They had ice cold beer and hot food within 15 minutes that was delicious a friendly staff good prices and an extensive beer list Great place go ASAP\n",
            "errors: 13\n",
            "The best restaurant I have gone to is when I went to AppleBee with my friends the service there is so nice Food is delicious I liked the steak very much The environment is very nice and clean which makes me want to go there for more times Also the feeling when talking with my friends at such a good restaurant after skiing is wonderful I want to go there again\n",
            "The worst restaurant that I have ever eaten in is undoubtedly this place called Kneed and feed I ordered a veggie sandwich and a red pepper soup When the waitress placed my order on the table it looked very promising but when I took a bite of my sandwich which was also a task as the bread was too hard to bite into the veggie burger had no flavor Also the red pepper soup was very bland and I had to add a lot of salt and pepper to give it some flavor Even though I was starving I was unable to finish my order \n",
            "I have been to a Asian restaurant in New York city The menu is written by Chinese and English When I choose a famous chinses plate called Gongbao chicken I was surprised The taste of it like a Thai flavor which is cooked by curry \n",
            "This cafe is located on the 2nd street from the bank They serve fresh and good quality coffee and they grind beans every morning So if you needs a cup of coffee in the morning this place is where you are looking for The clerks are nice and passionate on what they are doing \n",
            "My best restaurant is Amer Palace Hotel in my hometown It serves delicious Indian food I completely love their Butter Chicken and Spinach with cottage cheese Their service is good and the food is always served hot and delicious It is always consistent in its quality which makes it a place that I can take my friends and family who have never been to it without ever worrying about the experience I love the hotel and its Indian restaurant \n",
            "Ruby Tuesday is my favorite America Style Restaurant The salad is awesome And I like the baby pork ribs so much  So does the coconut shrimp\n",
            "The worst restaurant I have ever been to ended up by the restaurant owner calling a police They served us food on dirty tables I refused to pay for pasta that had hair in it The owner made me to pay by calling the police \n",
            "errors: 7\n"
          ]
        }
      ]
    },
    {
      "cell_type": "code",
      "source": [
        "#Top 10 features\n",
        "\n",
        "feature_ranks = sorted(zip(svm_clf.coef_[0], unigram_count_vectorizer.get_feature_names_out()))\n",
        "\n",
        "##Top 10 features for fake words\n",
        "fake_10 = feature_ranks[-10:]\n",
        "print(\"Fake words\")\n",
        "for i in range(0, len(fake_10)):\n",
        "    print(fake_10[i])\n",
        "print()\n",
        "\n",
        "##Top 10 features for true words\n",
        "true_10 = feature_ranks[:10]\n",
        "print(\"True words\")\n",
        "for i in range(0, len(true_10)):\n",
        "    print(true_10[i])\n",
        "print()"
      ],
      "metadata": {
        "colab": {
          "base_uri": "https://localhost:8080/"
        },
        "id": "ivyAfRwbMaqs",
        "outputId": "0452746f-50f1-4cb1-a754-073b02ce0ac9"
      },
      "execution_count": null,
      "outputs": [
        {
          "output_type": "stream",
          "name": "stdout",
          "text": [
            "Fake words\n",
            "(0.38852874064326015, 'didnt')\n",
            "(0.4010278745485775, 'good')\n",
            "(0.4337657258881227, 'food')\n",
            "(0.4498916090927833, 'time')\n",
            "(0.4734313574336397, 'great')\n",
            "(0.50524056114873, 'bad')\n",
            "(0.6882022004698609, 'ny')\n",
            "(0.7518640541390356, 'overall')\n",
            "(0.8187492968922648, 'dinner')\n",
            "(0.8808013037917823, 'friendly')\n",
            "\n",
            "True words\n",
            "(-1.1809768637224178, 'definitely')\n",
            "(-0.9720659618157339, 'experience')\n",
            "(-0.8772387096333821, 'said')\n",
            "(-0.8256647977177729, 'want')\n",
            "(-0.7411672233642352, 'like')\n",
            "(-0.6913211192448717, 'served')\n",
            "(-0.6674909811533987, 'quality')\n",
            "(-0.654108374912961, 'worth')\n",
            "(-0.5305466064886586, 'high')\n",
            "(-0.5290435929085762, 'took')\n",
            "\n"
          ]
        }
      ]
    },
    {
      "cell_type": "markdown",
      "source": [
        "#Unigram and bigram Term Frequency Vectorizer\n",
        "##MNB"
      ],
      "metadata": {
        "id": "G-k21-fsUoW6"
      }
    },
    {
      "cell_type": "code",
      "source": [
        "X_train_vec = gram12_count_vectorizer.fit_transform(X_train)\n",
        "X_test_vec = gram12_count_vectorizer.transform(X_test)\n",
        "\n",
        "from sklearn.naive_bayes import MultinomialNB\n",
        "\n",
        "# initialize the MNB model\n",
        "nb_clf= MultinomialNB()\n",
        "\n",
        "# use the training data to train the MNB model\n",
        "nb_clf.fit(X_train_vec,y_train)\n",
        "\n",
        "print(\"Accuracy score on test data set:\", nb_clf.score(X_test_vec,y_test))\n",
        "\n",
        "# print confusion matrix (row: ground truth; col: prediction)\n",
        "\n",
        "from sklearn.metrics import confusion_matrix\n",
        "y_pred = nb_clf.fit(X_train_vec, y_train).predict(X_test_vec)\n",
        "cm=confusion_matrix(y_test, y_pred)\n",
        "print(cm)\n",
        "\n",
        "# print classification report\n",
        "\n",
        "from sklearn.metrics import precision_score\n",
        "from sklearn.metrics import recall_score\n",
        "print(precision_score(y_test, y_pred, average=None))\n",
        "print(recall_score(y_test, y_pred, average=None))\n",
        "\n",
        "from sklearn.metrics import classification_report\n",
        "target_names = ['f', 't']\n",
        "print(classification_report(y_test, y_pred, target_names=target_names))"
      ],
      "metadata": {
        "colab": {
          "base_uri": "https://localhost:8080/"
        },
        "id": "nwDtBzoNUpku",
        "outputId": "73d6aedc-27aa-485a-febd-2fe333f299bc"
      },
      "execution_count": null,
      "outputs": [
        {
          "output_type": "stream",
          "name": "stdout",
          "text": [
            "Accuracy score on test data set: 0.4594594594594595\n",
            "[[ 8  9]\n",
            " [11  9]]\n",
            "[0.42105263 0.5       ]\n",
            "[0.47058824 0.45      ]\n",
            "              precision    recall  f1-score   support\n",
            "\n",
            "           f       0.42      0.47      0.44        17\n",
            "           t       0.50      0.45      0.47        20\n",
            "\n",
            "    accuracy                           0.46        37\n",
            "   macro avg       0.46      0.46      0.46        37\n",
            "weighted avg       0.46      0.46      0.46        37\n",
            "\n"
          ]
        }
      ]
    },
    {
      "cell_type": "code",
      "source": [
        "# cross validation\n",
        "\n",
        "from sklearn.pipeline import Pipeline\n",
        "from sklearn.model_selection import cross_val_score\n",
        "nb_clf_pipe = Pipeline([('vect', CountVectorizer(encoding='latin-1', ngram_range=(1,2))),('nb', MultinomialNB())])\n",
        "scores = cross_val_score(nb_clf_pipe, X, y, cv=5)\n",
        "avg=sum(scores)/len(scores)\n",
        "print(avg)"
      ],
      "metadata": {
        "colab": {
          "base_uri": "https://localhost:8080/"
        },
        "id": "cP4-nhSCVO6G",
        "outputId": "ccedb884-3535-4d94-b391-e15bbd96aa46"
      },
      "execution_count": null,
      "outputs": [
        {
          "output_type": "stream",
          "name": "stdout",
          "text": [
            "0.5432748538011696\n"
          ]
        }
      ]
    },
    {
      "cell_type": "code",
      "source": [
        "#error analysis\n",
        "err_cnt = 0\n",
        "for i in range(0, len(y_test)):\n",
        "    if(y_test[i]=='f' and y_pred[i]=='t'):\n",
        "        print(X_test[i])\n",
        "        err_cnt = err_cnt+1\n",
        "print(\"errors:\", err_cnt)\n",
        "\n",
        "err_cnt = 0\n",
        "for i in range(0, len(y_test)):\n",
        "    if(y_test[i]=='t' and y_pred[i]=='f'):\n",
        "        print(X_test[i])\n",
        "        err_cnt = err_cnt+1\n",
        "print(\"errors:\", err_cnt)"
      ],
      "metadata": {
        "colab": {
          "base_uri": "https://localhost:8080/"
        },
        "id": "DIzWJf7psaii",
        "outputId": "619e3dce-ff9e-4adb-e49c-d17dc49323d9"
      },
      "execution_count": null,
      "outputs": [
        {
          "output_type": "stream",
          "name": "stdout",
          "text": [
            "After I went shopping with some of my friend we went to DODO restaurant for dinner I found worm in one of the dishes \n",
            "I ate at this restaurant called Banana Leaf As I entered the restaurant I really liked the ambiance I ordered noodle soup and fried rice with spicy black bean curry The service was pretty fast and the food tasted amazing There was a lot flavor in the food which I truly enjoyed Two thumbs up for Banana Leaf and I would totally recommend this restaurant\n",
            "OMG This restaurant is horrible The receptionist did not greet us we just stood there and waited for five minutes The food came late and served not warm Me and my pet ordered a bowl of salad and a cheese pizza The salad was not fresh the crust of a pizza was so hard like plastics My dog didnt even eat that pizza I hate this place\n",
            "I went to this ultraluxurious restaurant in Downtown New York which is known for its exotic and expensive cuisine I had a glass of champagne along with very expensive Caviar I had a delicious Chicken Pasta cooked in white sauce This was followed by mouth melting chocolate brownie and vanilla ice cream The service standards were superlative and I felt special visiting this restaurant \n",
            "This restaurant ROCKS I mean the food is great and people are great Everything is great great just great I love it I like it \n",
            "I went to ABC restaurant two days ago and I hated the food and the service We were kept waiting for over an hour just to get seated and once we ordered our food came out cold I ordered the pasta and it was terrible  completely bland and very unappatizing I definitely would not recommend going there especially if youre in a hurry\n",
            "Cacata is the best place for Chinese food in the city I attended a birthday celebration here once and expected some kind of oriental version of the birthday cake They didnt disappoint It was some kind of pudding They are edgy and the food is great\n",
            "Olive Oil Garden was very disappointing I expect good food and good service at least when I go out to eat The meal was cold when we got it and the waitor had no manners whatsoever Dont go to the Olive Oil Garden \n",
            "Two days ago I went to the rooftop restaurant in NYC that served brunch it was one of the best brunch that I have ever had The view from the table was serene and I could see both the the Hudson River and the East River with outstanding views of Empire State Building the Chryslers tower Freedom tower and the Central park A great place with great food and a perplexing view\n",
            "errors: 9\n",
            "This place used to be great I cant believe its current state Instead of the cool dimlylit lounge that I was used to I was in a cheap smelly bar The music has no soul the bartender is mean This place no longer exudes a welcoming spirit The crowd is awkward and old I want my old hangout back\n",
            "the staff at this restaurant is very unfriendly the waitress for our table is extremely rude we need to wait for one hour for our order to come the place is noisy and the food isnt that good\n",
            "The best restaurant I have gone to is when I went to AppleBee with my friends the service there is so nice Food is delicious I liked the steak very much The environment is very nice and clean which makes me want to go there for more times Also the feeling when talking with my friends at such a good restaurant after skiing is wonderful I want to go there again\n",
            "The worst restaurant that I have ever eaten in is undoubtedly this place called Kneed and feed I ordered a veggie sandwich and a red pepper soup When the waitress placed my order on the table it looked very promising but when I took a bite of my sandwich which was also a task as the bread was too hard to bite into the veggie burger had no flavor Also the red pepper soup was very bland and I had to add a lot of salt and pepper to give it some flavor Even though I was starving I was unable to finish my order \n",
            "This diner was not at all up to par Ive been to many diners and get eggs benedict sometimes There was nacho cheese on my eggs and a plateful of watery runny eggs And it smelled like smoke And there was no heat in the dead of winter Their prices are not ANYWHERE near what is reasonable Cool mom  pop place but terrible food smell and prices\n",
            "Pastablities is a locally owned restaurant in Syracuse The food is simple and homey and comforting Their famous bread is baked daily and the bakery is right next door The bread is soft and chewy and amazing with their homemade spicy tomato sauce The paste and cheese that I had was cream and cooked to perfection \n",
            "After reading the reviews as well listening to all my friends rave about Dinosaur BarBQue I decided to try it out This is definitely the kind of place for you if you are into crowded noisy and peoplewalkingallover type of person Unfortunately I am not that type of person I found the place dirty noisy too crowded and the smell of the people over powered the smell of the food There were also loads of beer floating around and as the minutes flowed by people just became rowdier Although the food was good I would not rate it as you have to try it before you die kinda food Sorry Dinosaur BarBQue you are just not my kinda dig\n",
            "I have been to a Asian restaurant in New York city The menu is written by Chinese and English When I choose a famous chinses plate called Gongbao chicken I was surprised The taste of it like a Thai flavor which is cooked by curry \n",
            "This cafe is located on the 2nd street from the bank They serve fresh and good quality coffee and they grind beans every morning So if you needs a cup of coffee in the morning this place is where you are looking for The clerks are nice and passionate on what they are doing \n",
            "When you walk into TYU you may not have the highest expectations The space is small dark and may even be a little gloomy but once you settle into the comfy chairs ad browse their menu  you know youre in for a treat Great food amazing prices and definite value for money\n",
            "\n",
            "errors: 11\n"
          ]
        }
      ]
    },
    {
      "cell_type": "code",
      "source": [
        "#based on error analysis considering \"0\" category as fake and \"1\" category as truth\n",
        "\n",
        "log_ratios = []\n",
        "features = gram12_count_vectorizer.get_feature_names_out()\n",
        "fake_cond_prob = nb_clf.feature_log_prob_[0]\n",
        "true_cond_prob = nb_clf.feature_log_prob_[1]\n",
        "\n",
        "for i in range(0, len(features)):\n",
        "  log_ratio = fake_cond_prob[i] - true_cond_prob[i]\n",
        "  log_ratios.append(log_ratio)\n",
        "\n",
        "feature_ranks = sorted(zip(log_ratios, features))\n",
        "true_10 = feature_ranks[:10]\n",
        "print(\"True words\")\n",
        "for i in range(0, len(true_10)):\n",
        "    print(true_10[i])\n",
        "print()\n",
        "\n",
        "fake_10 = feature_ranks[-10:]\n",
        "print(\"Fake words\")\n",
        "for i in range(0, len(fake_10)):\n",
        "    print(fake_10[i])\n",
        "print()"
      ],
      "metadata": {
        "colab": {
          "base_uri": "https://localhost:8080/"
        },
        "id": "l0KgRN3_Iaip",
        "outputId": "bb9395c1-492c-4452-feeb-83463f188d32"
      },
      "execution_count": null,
      "outputs": [
        {
          "output_type": "stream",
          "name": "stdout",
          "text": [
            "True words\n",
            "(-0.8893412391846018, 'life')\n",
            "(-0.7839807235267755, 'time')\n",
            "(-0.6817018744063574, 'good')\n",
            "(-0.601659166732821, 'bad')\n",
            "(-0.601659166732821, 'going')\n",
            "(-0.5528690025633889, 'ordered')\n",
            "(-0.5326662952458694, 'waitress')\n",
            "(-0.4838761310764377, 'salad')\n",
            "(-0.48387613107643723, 'ny')\n",
            "(-0.48387613107643723, 'restaurant')\n",
            "\n",
            "Fake words\n",
            "(0.651103801762547, 'sauce')\n",
            "(0.651103801762547, 'wasnt')\n",
            "(0.7200966732494987, 'high')\n",
            "(0.7200966732494987, 'staff')\n",
            "(0.7200966732494987, 'waiters')\n",
            "(0.7200966732494987, 'worth')\n",
            "(0.9024182300434527, 'dine')\n",
            "(1.0565689098707116, 'definitely')\n",
            "(1.0565689098707116, 'said')\n",
            "(1.8832474830551793, 'want')\n",
            "\n"
          ]
        }
      ]
    },
    {
      "cell_type": "markdown",
      "source": [
        "##SVM"
      ],
      "metadata": {
        "id": "ArnXCTmuVgcl"
      }
    },
    {
      "cell_type": "code",
      "source": [
        "from sklearn.svm import LinearSVC\n",
        "\n",
        "# initialize the LinearSVC model\n",
        "svm_clf = LinearSVC(C=1)\n",
        "\n",
        "# use the training data to train the model\n",
        "svm_clf.fit(X_train_vec,y_train)\n",
        "\n",
        "# test the classifier on the test data set, print accuracy score\n",
        "\n",
        "print(\"Accuracy score on test data set:\",svm_clf.score(X_test_vec,y_test))\n",
        "\n",
        "# print confusion matrix and classification report\n",
        "\n",
        "from sklearn.metrics import confusion_matrix\n",
        "y_pred = svm_clf.predict(X_test_vec)\n",
        "cm=confusion_matrix(y_test, y_pred)\n",
        "print(cm)\n",
        "print()\n",
        "\n",
        "from sklearn.metrics import classification_report\n",
        "target_names = ['f', 't']\n",
        "print(classification_report(y_test, y_pred, target_names=target_names))"
      ],
      "metadata": {
        "colab": {
          "base_uri": "https://localhost:8080/"
        },
        "id": "XP6Jxt9KVhm4",
        "outputId": "ea0111c4-3eed-43c6-a6f1-b67bfa4f7be7"
      },
      "execution_count": null,
      "outputs": [
        {
          "output_type": "stream",
          "name": "stdout",
          "text": [
            "Accuracy score on test data set: 0.4594594594594595\n",
            "[[ 4 13]\n",
            " [ 7 13]]\n",
            "\n",
            "              precision    recall  f1-score   support\n",
            "\n",
            "           f       0.36      0.24      0.29        17\n",
            "           t       0.50      0.65      0.57        20\n",
            "\n",
            "    accuracy                           0.46        37\n",
            "   macro avg       0.43      0.44      0.43        37\n",
            "weighted avg       0.44      0.46      0.44        37\n",
            "\n"
          ]
        }
      ]
    },
    {
      "cell_type": "code",
      "source": [
        "from sklearn.pipeline import Pipeline\n",
        "from sklearn.model_selection import cross_validate\n",
        "\n",
        "scoring = ['accuracy', 'f1_macro', 'f1_micro', 'precision_macro', 'recall_macro']\n",
        "svm_clf_pipe = Pipeline([('vect', CountVectorizer(encoding='latin-1', ngram_range=(1,2))),('svm', LinearSVC(C=1))])\n",
        "scores = cross_validate(svm_clf_pipe, X, y, cv=5, scoring=scoring, return_train_score=True)\n",
        "\n",
        "# retrieve scores from a metric\n",
        "def get_metric_scores (scores, metric, train_or_test, verbose=False):\n",
        "    metric_name = train_or_test + '_' + metric\n",
        "    print(metric_name) \n",
        "\n",
        "    metric_scores = scores[metric_name]\n",
        "    if (verbose == True):\n",
        "        print(metric_scores)\n",
        "    avg = sum(metric_scores) / len(metric_scores)\n",
        "    print('average')\n",
        "    avg_formatted = \"{:.3f}\".format(avg)\n",
        "    print(avg_formatted)\n",
        "\n",
        "#retrieve test accuracy scores\n",
        "print(get_metric_scores(scores, 'accuracy', 'test', verbose=True))"
      ],
      "metadata": {
        "colab": {
          "base_uri": "https://localhost:8080/"
        },
        "id": "CF7ly1yLVvo8",
        "outputId": "b69d9d0e-7bde-43e7-bd1f-8b588f5456e6"
      },
      "execution_count": null,
      "outputs": [
        {
          "output_type": "stream",
          "name": "stdout",
          "text": [
            "test_accuracy\n",
            "[0.57894737 0.52631579 0.5        0.5        0.5       ]\n",
            "average\n",
            "0.521\n",
            "None\n"
          ]
        }
      ]
    },
    {
      "cell_type": "code",
      "source": [
        "#error analysis\n",
        "err_cnt = 0\n",
        "for i in range(0, len(y_test)):\n",
        "    if(y_test[i]=='f' and y_pred[i]=='t'):\n",
        "        print(X_test[i])\n",
        "        err_cnt = err_cnt+1\n",
        "print(\"errors:\", err_cnt)\n",
        "\n",
        "err_cnt = 0\n",
        "for i in range(0, len(y_test)):\n",
        "    if(y_test[i]=='t' and y_pred[i]=='f'):\n",
        "        print(X_test[i])\n",
        "        err_cnt = err_cnt+1\n",
        "print(\"errors:\", err_cnt)"
      ],
      "metadata": {
        "colab": {
          "base_uri": "https://localhost:8080/"
        },
        "id": "bXQoNF2FstLh",
        "outputId": "128d66fe-74de-4fb1-8ff7-60e002021716"
      },
      "execution_count": null,
      "outputs": [
        {
          "output_type": "stream",
          "name": "stdout",
          "text": [
            "After I went shopping with some of my friend we went to DODO restaurant for dinner I found worm in one of the dishes \n",
            "I recently ate at a restaurant called White Castle and it was a dine in I had to wait 20 minutes before the waiter came to my table to take my order even though it was not busy I had to wait another 30 minutes for my order to come I had ordered a veggie burger with fries and Iced tea The veggie patty was not properly cooked the lettuce had black patches and the tomatoes looked horrible Overall the burger was a disaster When I turned to the fries in the hopes that it would taste goodto my disappointment they were also not fried properly and had a raw taste To top it all when picked up my iced tea took take a sip I found a fly swimming in my iced tea Overall it was a really bad experience and I would not recommend White Castle to anybody \n",
            "I ate at this restaurant called Banana Leaf As I entered the restaurant I really liked the ambiance I ordered noodle soup and fried rice with spicy black bean curry The service was pretty fast and the food tasted amazing There was a lot flavor in the food which I truly enjoyed Two thumbs up for Banana Leaf and I would totally recommend this restaurant\n",
            "I went to the Chilis on Erie Blvd and had the worst meal of my life We arrived and waited 5 minutes for a hostess and then were seated by a waiter who was obviously in a terrible mood We order drinks and it took them 15 minutes to bring us both the wrong beers which were barely cold Then we order an appetizer and wait 25 minutes for cold southwest egg rolls at which point we just paid and left Dont go\n",
            "OMG This restaurant is horrible The receptionist did not greet us we just stood there and waited for five minutes The food came late and served not warm Me and my pet ordered a bowl of salad and a cheese pizza The salad was not fresh the crust of a pizza was so hard like plastics My dog didnt even eat that pizza I hate this place\n",
            "I went to this ultraluxurious restaurant in Downtown New York which is known for its exotic and expensive cuisine I had a glass of champagne along with very expensive Caviar I had a delicious Chicken Pasta cooked in white sauce This was followed by mouth melting chocolate brownie and vanilla ice cream The service standards were superlative and I felt special visiting this restaurant \n",
            "This restaurant ROCKS I mean the food is great and people are great Everything is great great just great I love it I like it \n",
            "I went to ABC restaurant two days ago and I hated the food and the service We were kept waiting for over an hour just to get seated and once we ordered our food came out cold I ordered the pasta and it was terrible  completely bland and very unappatizing I definitely would not recommend going there especially if youre in a hurry\n",
            "Cacata is the best place for Chinese food in the city I attended a birthday celebration here once and expected some kind of oriental version of the birthday cake They didnt disappoint It was some kind of pudding They are edgy and the food is great\n",
            "Olive Oil Garden was very disappointing I expect good food and good service at least when I go out to eat The meal was cold when we got it and the waitor had no manners whatsoever Dont go to the Olive Oil Garden \n",
            "The service was way below average and we had to wait 10 minutes before we could be seated Then had to wait 20 minutes before the menu was shown to us Let me tell you that the food at Kitty Hoynes Irish Pub  Restaurant was terrible The vegies were under cooked and the lamb was over cooked the bread was dry and the beer was flat Need I say more\n",
            "Two days ago I went to the rooftop restaurant in NYC that served brunch it was one of the best brunch that I have ever had The view from the table was serene and I could see both the the Hudson River and the East River with outstanding views of Empire State Building the Chryslers tower Freedom tower and the Central park A great place with great food and a perplexing view\n",
            "I went to Joeys and had the best lasagna on the planet  absolutely out of this world They had ice cold beer and hot food within 15 minutes that was delicious a friendly staff good prices and an extensive beer list Great place go ASAP\n",
            "errors: 13\n",
            "The best restaurant I have gone to is when I went to AppleBee with my friends the service there is so nice Food is delicious I liked the steak very much The environment is very nice and clean which makes me want to go there for more times Also the feeling when talking with my friends at such a good restaurant after skiing is wonderful I want to go there again\n",
            "The worst restaurant that I have ever eaten in is undoubtedly this place called Kneed and feed I ordered a veggie sandwich and a red pepper soup When the waitress placed my order on the table it looked very promising but when I took a bite of my sandwich which was also a task as the bread was too hard to bite into the veggie burger had no flavor Also the red pepper soup was very bland and I had to add a lot of salt and pepper to give it some flavor Even though I was starving I was unable to finish my order \n",
            "I have been to a Asian restaurant in New York city The menu is written by Chinese and English When I choose a famous chinses plate called Gongbao chicken I was surprised The taste of it like a Thai flavor which is cooked by curry \n",
            "This cafe is located on the 2nd street from the bank They serve fresh and good quality coffee and they grind beans every morning So if you needs a cup of coffee in the morning this place is where you are looking for The clerks are nice and passionate on what they are doing \n",
            "My best restaurant is Amer Palace Hotel in my hometown It serves delicious Indian food I completely love their Butter Chicken and Spinach with cottage cheese Their service is good and the food is always served hot and delicious It is always consistent in its quality which makes it a place that I can take my friends and family who have never been to it without ever worrying about the experience I love the hotel and its Indian restaurant \n",
            "Ruby Tuesday is my favorite America Style Restaurant The salad is awesome And I like the baby pork ribs so much  So does the coconut shrimp\n",
            "The worst restaurant I have ever been to ended up by the restaurant owner calling a police They served us food on dirty tables I refused to pay for pasta that had hair in it The owner made me to pay by calling the police \n",
            "errors: 7\n"
          ]
        }
      ]
    },
    {
      "cell_type": "code",
      "source": [
        "#Top 10 features\n",
        "\n",
        "feature_ranks = sorted(zip(svm_clf.coef_[0], gram12_count_vectorizer.get_feature_names_out()))\n",
        "\n",
        "##Top 10 features for fake words\n",
        "fake_10 = feature_ranks[-10:]\n",
        "print(\"Fake words\")\n",
        "for i in range(0, len(fake_10)):\n",
        "    print(fake_10[i])\n",
        "print()\n",
        "\n",
        "##Top 10 features for true words\n",
        "true_10 = feature_ranks[:10]\n",
        "print(\"True words\")\n",
        "for i in range(0, len(true_10)):\n",
        "    print(true_10[i])\n",
        "print()"
      ],
      "metadata": {
        "colab": {
          "base_uri": "https://localhost:8080/"
        },
        "id": "tpUV1qQoMdXC",
        "outputId": "9e2f6144-e737-4355-fb23-fd6c1cadbd41"
      },
      "execution_count": null,
      "outputs": [
        {
          "output_type": "stream",
          "name": "stdout",
          "text": [
            "Fake words\n",
            "(0.3885294710449072, 'didnt')\n",
            "(0.40102518068210047, 'good')\n",
            "(0.4337647391676839, 'food')\n",
            "(0.449890514229654, 'time')\n",
            "(0.47343295189751966, 'great')\n",
            "(0.5052398818456328, 'bad')\n",
            "(0.6882033287072165, 'ny')\n",
            "(0.7518656310867319, 'overall')\n",
            "(0.8187505266525416, 'dinner')\n",
            "(0.8808006454626588, 'friendly')\n",
            "\n",
            "True words\n",
            "(-1.1809749972842973, 'definitely')\n",
            "(-0.9720677025926572, 'experience')\n",
            "(-0.8772383027242512, 'said')\n",
            "(-0.8256620799543126, 'want')\n",
            "(-0.7411674178017926, 'like')\n",
            "(-0.6913212104593095, 'served')\n",
            "(-0.6674893246867495, 'quality')\n",
            "(-0.6541087208103876, 'worth')\n",
            "(-0.5305457740907414, 'high')\n",
            "(-0.529043421878272, 'took')\n",
            "\n"
          ]
        }
      ]
    },
    {
      "cell_type": "markdown",
      "source": [
        "#Unigram TF_IDF Vectorizer\n",
        "##MNB"
      ],
      "metadata": {
        "id": "rBlOT4IuVA9H"
      }
    },
    {
      "cell_type": "code",
      "source": [
        "X_train_vec = unigram_tfidf_vectorizer.fit_transform(X_train)\n",
        "X_test_vec = unigram_tfidf_vectorizer.transform(X_test)\n",
        "\n",
        "from sklearn.naive_bayes import MultinomialNB\n",
        "\n",
        "# initialize the MNB model\n",
        "nb_clf= MultinomialNB()\n",
        "\n",
        "# use the training data to train the MNB model\n",
        "nb_clf.fit(X_train_vec,y_train)\n",
        "\n",
        "print(\"Accuracy score on test data set:\", nb_clf.score(X_test_vec,y_test))\n",
        "\n",
        "# print confusion matrix (row: ground truth; col: prediction)\n",
        "\n",
        "from sklearn.metrics import confusion_matrix\n",
        "y_pred = nb_clf.fit(X_train_vec, y_train).predict(X_test_vec)\n",
        "cm=confusion_matrix(y_test, y_pred)\n",
        "print(cm)\n",
        "\n",
        "# print classification report\n",
        "\n",
        "from sklearn.metrics import precision_score\n",
        "from sklearn.metrics import recall_score\n",
        "print(precision_score(y_test, y_pred, average=None))\n",
        "print(recall_score(y_test, y_pred, average=None))\n",
        "\n",
        "from sklearn.metrics import classification_report\n",
        "target_names = ['f', 't']\n",
        "print(classification_report(y_test, y_pred, target_names=target_names))"
      ],
      "metadata": {
        "colab": {
          "base_uri": "https://localhost:8080/"
        },
        "id": "h03EfFiSVCMe",
        "outputId": "82e91eb5-ade0-4f8d-b271-b90060076bbf"
      },
      "execution_count": null,
      "outputs": [
        {
          "output_type": "stream",
          "name": "stdout",
          "text": [
            "Accuracy score on test data set: 0.40540540540540543\n",
            "[[ 8  9]\n",
            " [13  7]]\n",
            "[0.38095238 0.4375    ]\n",
            "[0.47058824 0.35      ]\n",
            "              precision    recall  f1-score   support\n",
            "\n",
            "           f       0.38      0.47      0.42        17\n",
            "           t       0.44      0.35      0.39        20\n",
            "\n",
            "    accuracy                           0.41        37\n",
            "   macro avg       0.41      0.41      0.40        37\n",
            "weighted avg       0.41      0.41      0.40        37\n",
            "\n"
          ]
        }
      ]
    },
    {
      "cell_type": "code",
      "source": [
        "# cross validation\n",
        "\n",
        "from sklearn.pipeline import Pipeline\n",
        "from sklearn.model_selection import cross_val_score\n",
        "nb_clf_pipe = Pipeline([('vect', TfidfVectorizer(encoding='latin-1', use_idf=True)),('nb', MultinomialNB())])\n",
        "scores = cross_val_score(nb_clf_pipe, X, y, cv=5)\n",
        "avg=sum(scores)/len(scores)\n",
        "print(avg)"
      ],
      "metadata": {
        "colab": {
          "base_uri": "https://localhost:8080/"
        },
        "id": "MCFEGOASVPxt",
        "outputId": "7477c6bf-0848-4319-8678-0700786ed272"
      },
      "execution_count": null,
      "outputs": [
        {
          "output_type": "stream",
          "name": "stdout",
          "text": [
            "0.5766081871345029\n"
          ]
        }
      ]
    },
    {
      "cell_type": "code",
      "source": [
        "#error analysis\n",
        "err_cnt = 0\n",
        "for i in range(0, len(y_test)):\n",
        "    if(y_test[i]=='f' and y_pred[i]=='t'):\n",
        "        print(X_test[i])\n",
        "        err_cnt = err_cnt+1\n",
        "print(\"errors:\", err_cnt)\n",
        "\n",
        "err_cnt = 0\n",
        "for i in range(0, len(y_test)):\n",
        "    if(y_test[i]=='t' and y_pred[i]=='f'):\n",
        "        print(X_test[i])\n",
        "        err_cnt = err_cnt+1\n",
        "print(\"errors:\", err_cnt)"
      ],
      "metadata": {
        "colab": {
          "base_uri": "https://localhost:8080/"
        },
        "id": "TGlLTRJSsci-",
        "outputId": "74b73113-f013-4c6a-cb4e-62aa2f3afc79"
      },
      "execution_count": null,
      "outputs": [
        {
          "output_type": "stream",
          "name": "stdout",
          "text": [
            "After I went shopping with some of my friend we went to DODO restaurant for dinner I found worm in one of the dishes \n",
            "I recently ate at a restaurant called White Castle and it was a dine in I had to wait 20 minutes before the waiter came to my table to take my order even though it was not busy I had to wait another 30 minutes for my order to come I had ordered a veggie burger with fries and Iced tea The veggie patty was not properly cooked the lettuce had black patches and the tomatoes looked horrible Overall the burger was a disaster When I turned to the fries in the hopes that it would taste goodto my disappointment they were also not fried properly and had a raw taste To top it all when picked up my iced tea took take a sip I found a fly swimming in my iced tea Overall it was a really bad experience and I would not recommend White Castle to anybody \n",
            "I went there with two friends at 6pm Long queue was there But it didnt take us long to wait The waiter was nice but worked in a hurry We ordered Todays Special some drinks and two icecreams I had a steak a little bit too salty but acceptable My friends didnt like their lamb chop and cod filet that much It costed us almost 100 Not worth it Will not visit there any more\n",
            "I ate at this restaurant called Banana Leaf As I entered the restaurant I really liked the ambiance I ordered noodle soup and fried rice with spicy black bean curry The service was pretty fast and the food tasted amazing There was a lot flavor in the food which I truly enjoyed Two thumbs up for Banana Leaf and I would totally recommend this restaurant\n",
            "I went to the Chilis on Erie Blvd and had the worst meal of my life We arrived and waited 5 minutes for a hostess and then were seated by a waiter who was obviously in a terrible mood We order drinks and it took them 15 minutes to bring us both the wrong beers which were barely cold Then we order an appetizer and wait 25 minutes for cold southwest egg rolls at which point we just paid and left Dont go\n",
            "OMG This restaurant is horrible The receptionist did not greet us we just stood there and waited for five minutes The food came late and served not warm Me and my pet ordered a bowl of salad and a cheese pizza The salad was not fresh the crust of a pizza was so hard like plastics My dog didnt even eat that pizza I hate this place\n",
            "This restaurant ROCKS I mean the food is great and people are great Everything is great great just great I love it I like it \n",
            "I went to ABC restaurant two days ago and I hated the food and the service We were kept waiting for over an hour just to get seated and once we ordered our food came out cold I ordered the pasta and it was terrible  completely bland and very unappatizing I definitely would not recommend going there especially if youre in a hurry\n",
            "Olive Oil Garden was very disappointing I expect good food and good service at least when I go out to eat The meal was cold when we got it and the waitor had no manners whatsoever Dont go to the Olive Oil Garden \n",
            "errors: 9\n",
            "This place used to be great I cant believe its current state Instead of the cool dimlylit lounge that I was used to I was in a cheap smelly bar The music has no soul the bartender is mean This place no longer exudes a welcoming spirit The crowd is awkward and old I want my old hangout back\n",
            "the staff at this restaurant is very unfriendly the waitress for our table is extremely rude we need to wait for one hour for our order to come the place is noisy and the food isnt that good\n",
            "The best restaurant I have gone to is when I went to AppleBee with my friends the service there is so nice Food is delicious I liked the steak very much The environment is very nice and clean which makes me want to go there for more times Also the feeling when talking with my friends at such a good restaurant after skiing is wonderful I want to go there again\n",
            "The worst restaurant that I have ever eaten in is undoubtedly this place called Kneed and feed I ordered a veggie sandwich and a red pepper soup When the waitress placed my order on the table it looked very promising but when I took a bite of my sandwich which was also a task as the bread was too hard to bite into the veggie burger had no flavor Also the red pepper soup was very bland and I had to add a lot of salt and pepper to give it some flavor Even though I was starving I was unable to finish my order \n",
            "This diner was not at all up to par Ive been to many diners and get eggs benedict sometimes There was nacho cheese on my eggs and a plateful of watery runny eggs And it smelled like smoke And there was no heat in the dead of winter Their prices are not ANYWHERE near what is reasonable Cool mom  pop place but terrible food smell and prices\n",
            "Halos is home I have been here numerous times The staff knows my name Thats the feeling I keep coming back to The coffee is great any time of the day youll always get fresh coffee They have little munchies in case youre not looking to have a full meal A great place to have a quiet afternoon by yourself and catch up on some reading or catch up with an old friend over neverending conversations\n",
            "Pastablities is a locally owned restaurant in Syracuse The food is simple and homey and comforting Their famous bread is baked daily and the bakery is right next door The bread is soft and chewy and amazing with their homemade spicy tomato sauce The paste and cheese that I had was cream and cooked to perfection \n",
            "After reading the reviews as well listening to all my friends rave about Dinosaur BarBQue I decided to try it out This is definitely the kind of place for you if you are into crowded noisy and peoplewalkingallover type of person Unfortunately I am not that type of person I found the place dirty noisy too crowded and the smell of the people over powered the smell of the food There were also loads of beer floating around and as the minutes flowed by people just became rowdier Although the food was good I would not rate it as you have to try it before you die kinda food Sorry Dinosaur BarBQue you are just not my kinda dig\n",
            "I have been to a Asian restaurant in New York city The menu is written by Chinese and English When I choose a famous chinses plate called Gongbao chicken I was surprised The taste of it like a Thai flavor which is cooked by curry \n",
            "This cafe is located on the 2nd street from the bank They serve fresh and good quality coffee and they grind beans every morning So if you needs a cup of coffee in the morning this place is where you are looking for The clerks are nice and passionate on what they are doing \n",
            "My best restaurant is Amer Palace Hotel in my hometown It serves delicious Indian food I completely love their Butter Chicken and Spinach with cottage cheese Their service is good and the food is always served hot and delicious It is always consistent in its quality which makes it a place that I can take my friends and family who have never been to it without ever worrying about the experience I love the hotel and its Indian restaurant \n",
            "When you walk into TYU you may not have the highest expectations The space is small dark and may even be a little gloomy but once you settle into the comfy chairs ad browse their menu  you know youre in for a treat Great food amazing prices and definite value for money\n",
            "\n",
            "errors: 13\n"
          ]
        }
      ]
    },
    {
      "cell_type": "code",
      "source": [
        "#based on error analysis considering \"0\" category as fake and \"1\" category as truth\n",
        "\n",
        "log_ratios = []\n",
        "features = unigram_tfidf_vectorizer.get_feature_names_out()\n",
        "fake_cond_prob = nb_clf.feature_log_prob_[0]\n",
        "true_cond_prob = nb_clf.feature_log_prob_[1]\n",
        "\n",
        "for i in range(0, len(features)):\n",
        "  log_ratio = fake_cond_prob[i] - true_cond_prob[i]\n",
        "  log_ratios.append(log_ratio)\n",
        "\n",
        "feature_ranks = sorted(zip(log_ratios, features))\n",
        "true_10 = feature_ranks[:10]\n",
        "print(\"True words\")\n",
        "for i in range(0, len(true_10)):\n",
        "    print(true_10[i])\n",
        "print()\n",
        "\n",
        "fake_10 = feature_ranks[-10:]\n",
        "print(\"Fake words\")\n",
        "for i in range(0, len(fake_10)):\n",
        "    print(fake_10[i])\n",
        "print()"
      ],
      "metadata": {
        "colab": {
          "base_uri": "https://localhost:8080/"
        },
        "id": "5faz1JwkIeYX",
        "outputId": "8c7bfdcc-5950-4824-9ef1-af6ad0cf8c5e"
      },
      "execution_count": null,
      "outputs": [
        {
          "output_type": "stream",
          "name": "stdout",
          "text": [
            "True words\n",
            "(-0.501688134990478, 'terrible')\n",
            "(-0.46461375427651586, 'bad')\n",
            "(-0.43486919919156275, 'time')\n",
            "(-0.41899512630091706, 'life')\n",
            "(-0.4136543444913534, 'ordered')\n",
            "(-0.3800421835560366, 'overall')\n",
            "(-0.3757575659020649, 'good')\n",
            "(-0.3513581732494506, 'friendly')\n",
            "(-0.3332140336030891, 'really')\n",
            "(-0.2925326109939075, 'ny')\n",
            "\n",
            "Fake words\n",
            "(0.3466109453394375, 'experience')\n",
            "(0.35310471285063727, 'dine')\n",
            "(0.35337929940709767, 'sauce')\n",
            "(0.35554017542564287, 'like')\n",
            "(0.37338977381608096, 'waiters')\n",
            "(0.4191727130485976, 'wasnt')\n",
            "(0.4348201552581763, 'high')\n",
            "(0.7036314782925546, 'said')\n",
            "(0.7084999778564756, 'definitely')\n",
            "(0.9440189403907806, 'want')\n",
            "\n"
          ]
        }
      ]
    },
    {
      "cell_type": "markdown",
      "source": [
        "##SVM"
      ],
      "metadata": {
        "id": "3szPuaG1Vi27"
      }
    },
    {
      "cell_type": "code",
      "source": [
        "from sklearn.svm import LinearSVC\n",
        "\n",
        "# initialize the LinearSVC model\n",
        "svm_clf = LinearSVC(C=1)\n",
        "\n",
        "# use the training data to train the model\n",
        "svm_clf.fit(X_train_vec,y_train)\n",
        "\n",
        "# test the classifier on the test data set, print accuracy score\n",
        "\n",
        "print(\"Accuracy score on test data set:\",svm_clf.score(X_test_vec,y_test))\n",
        "\n",
        "# print confusion matrix and classification report\n",
        "\n",
        "from sklearn.metrics import confusion_matrix\n",
        "y_pred = svm_clf.predict(X_test_vec)\n",
        "cm=confusion_matrix(y_test, y_pred)\n",
        "print(cm)\n",
        "print()\n",
        "\n",
        "from sklearn.metrics import classification_report\n",
        "target_names = ['f', 't']\n",
        "print(classification_report(y_test, y_pred, target_names=target_names))"
      ],
      "metadata": {
        "colab": {
          "base_uri": "https://localhost:8080/"
        },
        "id": "BiPQHB-ZVkGF",
        "outputId": "6e22347a-82cc-4d37-e524-4f8294b23485"
      },
      "execution_count": null,
      "outputs": [
        {
          "output_type": "stream",
          "name": "stdout",
          "text": [
            "Accuracy score on test data set: 0.40540540540540543\n",
            "[[ 4 13]\n",
            " [ 9 11]]\n",
            "\n",
            "              precision    recall  f1-score   support\n",
            "\n",
            "           f       0.31      0.24      0.27        17\n",
            "           t       0.46      0.55      0.50        20\n",
            "\n",
            "    accuracy                           0.41        37\n",
            "   macro avg       0.38      0.39      0.38        37\n",
            "weighted avg       0.39      0.41      0.39        37\n",
            "\n"
          ]
        }
      ]
    },
    {
      "cell_type": "code",
      "source": [
        "from sklearn.pipeline import Pipeline\n",
        "from sklearn.model_selection import cross_validate\n",
        "\n",
        "scoring = ['accuracy', 'f1_macro', 'f1_micro', 'precision_macro', 'recall_macro']\n",
        "svm_clf_pipe = Pipeline([('vect', TfidfVectorizer(encoding='latin-1', use_idf=True)),('svm', LinearSVC(C=1))])\n",
        "scores = cross_validate(svm_clf_pipe, X, y, cv=5, scoring=scoring, return_train_score=True)\n",
        "\n",
        "# retrieve scores from a metric\n",
        "def get_metric_scores (scores, metric, train_or_test, verbose=False):\n",
        "    metric_name = train_or_test + '_' + metric\n",
        "    print(metric_name) \n",
        "\n",
        "    metric_scores = scores[metric_name]\n",
        "    if (verbose == True):\n",
        "        print(metric_scores)\n",
        "    avg = sum(metric_scores) / len(metric_scores)\n",
        "    print('average')\n",
        "    avg_formatted = \"{:.3f}\".format(avg)\n",
        "    print(avg_formatted)\n",
        "\n",
        "#retrieve test accuracy scores\n",
        "print(get_metric_scores(scores, 'accuracy', 'test', verbose=True))"
      ],
      "metadata": {
        "colab": {
          "base_uri": "https://localhost:8080/"
        },
        "id": "rxJrK3e8VwsD",
        "outputId": "5db639cc-553b-40cf-add0-ba7a5966b221"
      },
      "execution_count": null,
      "outputs": [
        {
          "output_type": "stream",
          "name": "stdout",
          "text": [
            "test_accuracy\n",
            "[0.52631579 0.63157895 0.44444444 0.55555556 0.55555556]\n",
            "average\n",
            "0.543\n",
            "None\n"
          ]
        }
      ]
    },
    {
      "cell_type": "code",
      "source": [
        "#error analysis\n",
        "err_cnt = 0\n",
        "for i in range(0, len(y_test)):\n",
        "    if(y_test[i]=='f' and y_pred[i]=='t'):\n",
        "        print(X_test[i])\n",
        "        err_cnt = err_cnt+1\n",
        "print(\"errors:\", err_cnt)\n",
        "\n",
        "err_cnt = 0\n",
        "for i in range(0, len(y_test)):\n",
        "    if(y_test[i]=='t' and y_pred[i]=='f'):\n",
        "        print(X_test[i])\n",
        "        err_cnt = err_cnt+1\n",
        "print(\"errors:\", err_cnt)"
      ],
      "metadata": {
        "colab": {
          "base_uri": "https://localhost:8080/"
        },
        "id": "w03XJtjOsow1",
        "outputId": "8a210e2e-41a6-4ede-fd0d-db26b8dd8fd1"
      },
      "execution_count": null,
      "outputs": [
        {
          "output_type": "stream",
          "name": "stdout",
          "text": [
            "After I went shopping with some of my friend we went to DODO restaurant for dinner I found worm in one of the dishes \n",
            "I recently ate at a restaurant called White Castle and it was a dine in I had to wait 20 minutes before the waiter came to my table to take my order even though it was not busy I had to wait another 30 minutes for my order to come I had ordered a veggie burger with fries and Iced tea The veggie patty was not properly cooked the lettuce had black patches and the tomatoes looked horrible Overall the burger was a disaster When I turned to the fries in the hopes that it would taste goodto my disappointment they were also not fried properly and had a raw taste To top it all when picked up my iced tea took take a sip I found a fly swimming in my iced tea Overall it was a really bad experience and I would not recommend White Castle to anybody \n",
            "I went there with two friends at 6pm Long queue was there But it didnt take us long to wait The waiter was nice but worked in a hurry We ordered Todays Special some drinks and two icecreams I had a steak a little bit too salty but acceptable My friends didnt like their lamb chop and cod filet that much It costed us almost 100 Not worth it Will not visit there any more\n",
            "I ate at this restaurant called Banana Leaf As I entered the restaurant I really liked the ambiance I ordered noodle soup and fried rice with spicy black bean curry The service was pretty fast and the food tasted amazing There was a lot flavor in the food which I truly enjoyed Two thumbs up for Banana Leaf and I would totally recommend this restaurant\n",
            "I went to the Chilis on Erie Blvd and had the worst meal of my life We arrived and waited 5 minutes for a hostess and then were seated by a waiter who was obviously in a terrible mood We order drinks and it took them 15 minutes to bring us both the wrong beers which were barely cold Then we order an appetizer and wait 25 minutes for cold southwest egg rolls at which point we just paid and left Dont go\n",
            "OMG This restaurant is horrible The receptionist did not greet us we just stood there and waited for five minutes The food came late and served not warm Me and my pet ordered a bowl of salad and a cheese pizza The salad was not fresh the crust of a pizza was so hard like plastics My dog didnt even eat that pizza I hate this place\n",
            "This restaurant ROCKS I mean the food is great and people are great Everything is great great just great I love it I like it \n",
            "I went to ABC restaurant two days ago and I hated the food and the service We were kept waiting for over an hour just to get seated and once we ordered our food came out cold I ordered the pasta and it was terrible  completely bland and very unappatizing I definitely would not recommend going there especially if youre in a hurry\n",
            "Cacata is the best place for Chinese food in the city I attended a birthday celebration here once and expected some kind of oriental version of the birthday cake They didnt disappoint It was some kind of pudding They are edgy and the food is great\n",
            "Olive Oil Garden was very disappointing I expect good food and good service at least when I go out to eat The meal was cold when we got it and the waitor had no manners whatsoever Dont go to the Olive Oil Garden \n",
            "The service was way below average and we had to wait 10 minutes before we could be seated Then had to wait 20 minutes before the menu was shown to us Let me tell you that the food at Kitty Hoynes Irish Pub  Restaurant was terrible The vegies were under cooked and the lamb was over cooked the bread was dry and the beer was flat Need I say more\n",
            "Two days ago I went to the rooftop restaurant in NYC that served brunch it was one of the best brunch that I have ever had The view from the table was serene and I could see both the the Hudson River and the East River with outstanding views of Empire State Building the Chryslers tower Freedom tower and the Central park A great place with great food and a perplexing view\n",
            "I went to Joeys and had the best lasagna on the planet  absolutely out of this world They had ice cold beer and hot food within 15 minutes that was delicious a friendly staff good prices and an extensive beer list Great place go ASAP\n",
            "errors: 13\n",
            "This place used to be great I cant believe its current state Instead of the cool dimlylit lounge that I was used to I was in a cheap smelly bar The music has no soul the bartender is mean This place no longer exudes a welcoming spirit The crowd is awkward and old I want my old hangout back\n",
            "The best restaurant I have gone to is when I went to AppleBee with my friends the service there is so nice Food is delicious I liked the steak very much The environment is very nice and clean which makes me want to go there for more times Also the feeling when talking with my friends at such a good restaurant after skiing is wonderful I want to go there again\n",
            "The worst restaurant that I have ever eaten in is undoubtedly this place called Kneed and feed I ordered a veggie sandwich and a red pepper soup When the waitress placed my order on the table it looked very promising but when I took a bite of my sandwich which was also a task as the bread was too hard to bite into the veggie burger had no flavor Also the red pepper soup was very bland and I had to add a lot of salt and pepper to give it some flavor Even though I was starving I was unable to finish my order \n",
            "This diner was not at all up to par Ive been to many diners and get eggs benedict sometimes There was nacho cheese on my eggs and a plateful of watery runny eggs And it smelled like smoke And there was no heat in the dead of winter Their prices are not ANYWHERE near what is reasonable Cool mom  pop place but terrible food smell and prices\n",
            "Pastablities is a locally owned restaurant in Syracuse The food is simple and homey and comforting Their famous bread is baked daily and the bakery is right next door The bread is soft and chewy and amazing with their homemade spicy tomato sauce The paste and cheese that I had was cream and cooked to perfection \n",
            "I have been to a Asian restaurant in New York city The menu is written by Chinese and English When I choose a famous chinses plate called Gongbao chicken I was surprised The taste of it like a Thai flavor which is cooked by curry \n",
            "This cafe is located on the 2nd street from the bank They serve fresh and good quality coffee and they grind beans every morning So if you needs a cup of coffee in the morning this place is where you are looking for The clerks are nice and passionate on what they are doing \n",
            "My best restaurant is Amer Palace Hotel in my hometown It serves delicious Indian food I completely love their Butter Chicken and Spinach with cottage cheese Their service is good and the food is always served hot and delicious It is always consistent in its quality which makes it a place that I can take my friends and family who have never been to it without ever worrying about the experience I love the hotel and its Indian restaurant \n",
            "When you walk into TYU you may not have the highest expectations The space is small dark and may even be a little gloomy but once you settle into the comfy chairs ad browse their menu  you know youre in for a treat Great food amazing prices and definite value for money\n",
            "errors: 9\n"
          ]
        }
      ]
    },
    {
      "cell_type": "code",
      "source": [
        "#Top 10 features\n",
        "\n",
        "feature_ranks = sorted(zip(svm_clf.coef_[0], unigram_tfidf_vectorizer.get_feature_names_out()))\n",
        "\n",
        "##Top 10 features for fake words\n",
        "fake_10 = feature_ranks[-10:]\n",
        "print(\"Fake words\")\n",
        "for i in range(0, len(fake_10)):\n",
        "    print(fake_10[i])\n",
        "print()\n",
        "\n",
        "##Top 10 features for true words\n",
        "true_10 = feature_ranks[:10]\n",
        "print(\"True words\")\n",
        "for i in range(0, len(true_10)):\n",
        "    print(true_10[i])\n",
        "print()"
      ],
      "metadata": {
        "colab": {
          "base_uri": "https://localhost:8080/"
        },
        "id": "HLWprlkGMfq7",
        "outputId": "77c63224-f5e3-442e-e5c0-1b4c2e43c345"
      },
      "execution_count": null,
      "outputs": [
        {
          "output_type": "stream",
          "name": "stdout",
          "text": [
            "Fake words\n",
            "(0.5381776524280878, 'really')\n",
            "(0.5796752490930338, 'time')\n",
            "(0.5815708411883416, 'bad')\n",
            "(0.6617410848988401, 'ordered')\n",
            "(0.6632484657165811, 'overall')\n",
            "(0.6876959452904681, 'ny')\n",
            "(0.6934343843805914, 'good')\n",
            "(0.7698068997030711, 'dinner')\n",
            "(0.7768648855439806, 'friendly')\n",
            "(0.7917840991252714, 'food')\n",
            "\n",
            "True words\n",
            "(-1.442684419752063, 'want')\n",
            "(-1.433935729163597, 'definitely')\n",
            "(-1.3110224187598694, 'said')\n",
            "(-1.163941050081389, 'experience')\n",
            "(-0.9351105902117167, 'like')\n",
            "(-0.8574747548031666, 'dining')\n",
            "(-0.7760741498656102, 'high')\n",
            "(-0.7089199586943215, 'dine')\n",
            "(-0.7032597176527685, 'worth')\n",
            "(-0.6768855156247641, 'amazing')\n",
            "\n"
          ]
        }
      ]
    }
  ]
}